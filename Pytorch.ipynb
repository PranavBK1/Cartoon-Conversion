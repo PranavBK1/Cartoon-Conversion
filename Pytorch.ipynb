{
  "nbformat": 4,
  "nbformat_minor": 0,
  "metadata": {
    "colab": {
      "provenance": [],
      "authorship_tag": "ABX9TyOYRxewv7EnUEW3q0jGh6Lp",
      "include_colab_link": true
    },
    "kernelspec": {
      "name": "python3",
      "display_name": "Python 3"
    },
    "language_info": {
      "name": "python"
    },
    "widgets": {
      "application/vnd.jupyter.widget-state+json": {
        "231a1321dc58478ebb56ce394580a1c1": {
          "model_module": "@jupyter-widgets/controls",
          "model_name": "HBoxModel",
          "model_module_version": "1.5.0",
          "state": {
            "_dom_classes": [],
            "_model_module": "@jupyter-widgets/controls",
            "_model_module_version": "1.5.0",
            "_model_name": "HBoxModel",
            "_view_count": null,
            "_view_module": "@jupyter-widgets/controls",
            "_view_module_version": "1.5.0",
            "_view_name": "HBoxView",
            "box_style": "",
            "children": [
              "IPY_MODEL_463648137f9e4b078065af5bc0d224dc",
              "IPY_MODEL_f76710da33e64935b98625686cce68fe",
              "IPY_MODEL_7787bb41d67547c8b68c895b91b3cff0"
            ],
            "layout": "IPY_MODEL_7ddb44c5a0ae4f0eafe1fb46d71f4fa3"
          }
        },
        "463648137f9e4b078065af5bc0d224dc": {
          "model_module": "@jupyter-widgets/controls",
          "model_name": "HTMLModel",
          "model_module_version": "1.5.0",
          "state": {
            "_dom_classes": [],
            "_model_module": "@jupyter-widgets/controls",
            "_model_module_version": "1.5.0",
            "_model_name": "HTMLModel",
            "_view_count": null,
            "_view_module": "@jupyter-widgets/controls",
            "_view_module_version": "1.5.0",
            "_view_name": "HTMLView",
            "description": "",
            "description_tooltip": null,
            "layout": "IPY_MODEL_c2be02d80e894cb6a868b2eb3927e69d",
            "placeholder": "​",
            "style": "IPY_MODEL_80726b3dc8e74d4e81b1468453cdb56b",
            "value": "model.safetensors: 100%"
          }
        },
        "f76710da33e64935b98625686cce68fe": {
          "model_module": "@jupyter-widgets/controls",
          "model_name": "FloatProgressModel",
          "model_module_version": "1.5.0",
          "state": {
            "_dom_classes": [],
            "_model_module": "@jupyter-widgets/controls",
            "_model_module_version": "1.5.0",
            "_model_name": "FloatProgressModel",
            "_view_count": null,
            "_view_module": "@jupyter-widgets/controls",
            "_view_module_version": "1.5.0",
            "_view_name": "ProgressView",
            "bar_style": "success",
            "description": "",
            "description_tooltip": null,
            "layout": "IPY_MODEL_76ffe0b7dac0494b879d7f2dca282993",
            "max": 21355344,
            "min": 0,
            "orientation": "horizontal",
            "style": "IPY_MODEL_4256a6bd140d430b9ef9324ded0d9976",
            "value": 21355344
          }
        },
        "7787bb41d67547c8b68c895b91b3cff0": {
          "model_module": "@jupyter-widgets/controls",
          "model_name": "HTMLModel",
          "model_module_version": "1.5.0",
          "state": {
            "_dom_classes": [],
            "_model_module": "@jupyter-widgets/controls",
            "_model_module_version": "1.5.0",
            "_model_name": "HTMLModel",
            "_view_count": null,
            "_view_module": "@jupyter-widgets/controls",
            "_view_module_version": "1.5.0",
            "_view_name": "HTMLView",
            "description": "",
            "description_tooltip": null,
            "layout": "IPY_MODEL_458f5dba4f834bb687a39f14c2b0241a",
            "placeholder": "​",
            "style": "IPY_MODEL_270fd5594d9f473d91a32a32c4c5c7f9",
            "value": " 21.4M/21.4M [00:00&lt;00:00, 102MB/s]"
          }
        },
        "7ddb44c5a0ae4f0eafe1fb46d71f4fa3": {
          "model_module": "@jupyter-widgets/base",
          "model_name": "LayoutModel",
          "model_module_version": "1.2.0",
          "state": {
            "_model_module": "@jupyter-widgets/base",
            "_model_module_version": "1.2.0",
            "_model_name": "LayoutModel",
            "_view_count": null,
            "_view_module": "@jupyter-widgets/base",
            "_view_module_version": "1.2.0",
            "_view_name": "LayoutView",
            "align_content": null,
            "align_items": null,
            "align_self": null,
            "border": null,
            "bottom": null,
            "display": null,
            "flex": null,
            "flex_flow": null,
            "grid_area": null,
            "grid_auto_columns": null,
            "grid_auto_flow": null,
            "grid_auto_rows": null,
            "grid_column": null,
            "grid_gap": null,
            "grid_row": null,
            "grid_template_areas": null,
            "grid_template_columns": null,
            "grid_template_rows": null,
            "height": null,
            "justify_content": null,
            "justify_items": null,
            "left": null,
            "margin": null,
            "max_height": null,
            "max_width": null,
            "min_height": null,
            "min_width": null,
            "object_fit": null,
            "object_position": null,
            "order": null,
            "overflow": null,
            "overflow_x": null,
            "overflow_y": null,
            "padding": null,
            "right": null,
            "top": null,
            "visibility": null,
            "width": null
          }
        },
        "c2be02d80e894cb6a868b2eb3927e69d": {
          "model_module": "@jupyter-widgets/base",
          "model_name": "LayoutModel",
          "model_module_version": "1.2.0",
          "state": {
            "_model_module": "@jupyter-widgets/base",
            "_model_module_version": "1.2.0",
            "_model_name": "LayoutModel",
            "_view_count": null,
            "_view_module": "@jupyter-widgets/base",
            "_view_module_version": "1.2.0",
            "_view_name": "LayoutView",
            "align_content": null,
            "align_items": null,
            "align_self": null,
            "border": null,
            "bottom": null,
            "display": null,
            "flex": null,
            "flex_flow": null,
            "grid_area": null,
            "grid_auto_columns": null,
            "grid_auto_flow": null,
            "grid_auto_rows": null,
            "grid_column": null,
            "grid_gap": null,
            "grid_row": null,
            "grid_template_areas": null,
            "grid_template_columns": null,
            "grid_template_rows": null,
            "height": null,
            "justify_content": null,
            "justify_items": null,
            "left": null,
            "margin": null,
            "max_height": null,
            "max_width": null,
            "min_height": null,
            "min_width": null,
            "object_fit": null,
            "object_position": null,
            "order": null,
            "overflow": null,
            "overflow_x": null,
            "overflow_y": null,
            "padding": null,
            "right": null,
            "top": null,
            "visibility": null,
            "width": null
          }
        },
        "80726b3dc8e74d4e81b1468453cdb56b": {
          "model_module": "@jupyter-widgets/controls",
          "model_name": "DescriptionStyleModel",
          "model_module_version": "1.5.0",
          "state": {
            "_model_module": "@jupyter-widgets/controls",
            "_model_module_version": "1.5.0",
            "_model_name": "DescriptionStyleModel",
            "_view_count": null,
            "_view_module": "@jupyter-widgets/base",
            "_view_module_version": "1.2.0",
            "_view_name": "StyleView",
            "description_width": ""
          }
        },
        "76ffe0b7dac0494b879d7f2dca282993": {
          "model_module": "@jupyter-widgets/base",
          "model_name": "LayoutModel",
          "model_module_version": "1.2.0",
          "state": {
            "_model_module": "@jupyter-widgets/base",
            "_model_module_version": "1.2.0",
            "_model_name": "LayoutModel",
            "_view_count": null,
            "_view_module": "@jupyter-widgets/base",
            "_view_module_version": "1.2.0",
            "_view_name": "LayoutView",
            "align_content": null,
            "align_items": null,
            "align_self": null,
            "border": null,
            "bottom": null,
            "display": null,
            "flex": null,
            "flex_flow": null,
            "grid_area": null,
            "grid_auto_columns": null,
            "grid_auto_flow": null,
            "grid_auto_rows": null,
            "grid_column": null,
            "grid_gap": null,
            "grid_row": null,
            "grid_template_areas": null,
            "grid_template_columns": null,
            "grid_template_rows": null,
            "height": null,
            "justify_content": null,
            "justify_items": null,
            "left": null,
            "margin": null,
            "max_height": null,
            "max_width": null,
            "min_height": null,
            "min_width": null,
            "object_fit": null,
            "object_position": null,
            "order": null,
            "overflow": null,
            "overflow_x": null,
            "overflow_y": null,
            "padding": null,
            "right": null,
            "top": null,
            "visibility": null,
            "width": null
          }
        },
        "4256a6bd140d430b9ef9324ded0d9976": {
          "model_module": "@jupyter-widgets/controls",
          "model_name": "ProgressStyleModel",
          "model_module_version": "1.5.0",
          "state": {
            "_model_module": "@jupyter-widgets/controls",
            "_model_module_version": "1.5.0",
            "_model_name": "ProgressStyleModel",
            "_view_count": null,
            "_view_module": "@jupyter-widgets/base",
            "_view_module_version": "1.2.0",
            "_view_name": "StyleView",
            "bar_color": null,
            "description_width": ""
          }
        },
        "458f5dba4f834bb687a39f14c2b0241a": {
          "model_module": "@jupyter-widgets/base",
          "model_name": "LayoutModel",
          "model_module_version": "1.2.0",
          "state": {
            "_model_module": "@jupyter-widgets/base",
            "_model_module_version": "1.2.0",
            "_model_name": "LayoutModel",
            "_view_count": null,
            "_view_module": "@jupyter-widgets/base",
            "_view_module_version": "1.2.0",
            "_view_name": "LayoutView",
            "align_content": null,
            "align_items": null,
            "align_self": null,
            "border": null,
            "bottom": null,
            "display": null,
            "flex": null,
            "flex_flow": null,
            "grid_area": null,
            "grid_auto_columns": null,
            "grid_auto_flow": null,
            "grid_auto_rows": null,
            "grid_column": null,
            "grid_gap": null,
            "grid_row": null,
            "grid_template_areas": null,
            "grid_template_columns": null,
            "grid_template_rows": null,
            "height": null,
            "justify_content": null,
            "justify_items": null,
            "left": null,
            "margin": null,
            "max_height": null,
            "max_width": null,
            "min_height": null,
            "min_width": null,
            "object_fit": null,
            "object_position": null,
            "order": null,
            "overflow": null,
            "overflow_x": null,
            "overflow_y": null,
            "padding": null,
            "right": null,
            "top": null,
            "visibility": null,
            "width": null
          }
        },
        "270fd5594d9f473d91a32a32c4c5c7f9": {
          "model_module": "@jupyter-widgets/controls",
          "model_name": "DescriptionStyleModel",
          "model_module_version": "1.5.0",
          "state": {
            "_model_module": "@jupyter-widgets/controls",
            "_model_module_version": "1.5.0",
            "_model_name": "DescriptionStyleModel",
            "_view_count": null,
            "_view_module": "@jupyter-widgets/base",
            "_view_module_version": "1.2.0",
            "_view_name": "StyleView",
            "description_width": ""
          }
        },
        "9b1e905796fc4f82b9ebb53bf195f12e": {
          "model_module": "@jupyter-widgets/controls",
          "model_name": "HBoxModel",
          "model_module_version": "1.5.0",
          "state": {
            "_dom_classes": [],
            "_model_module": "@jupyter-widgets/controls",
            "_model_module_version": "1.5.0",
            "_model_name": "HBoxModel",
            "_view_count": null,
            "_view_module": "@jupyter-widgets/controls",
            "_view_module_version": "1.5.0",
            "_view_name": "HBoxView",
            "box_style": "",
            "children": [
              "IPY_MODEL_f182e3ebc2f74f8b96360e891dc9f8f6",
              "IPY_MODEL_8f9117e6fa7f41c7a19f3e86eb7f500a",
              "IPY_MODEL_0d4f54d0d54d4777a250695bcc91a725"
            ],
            "layout": "IPY_MODEL_886edcedc711439fa4e77b6b90ecd641"
          }
        },
        "f182e3ebc2f74f8b96360e891dc9f8f6": {
          "model_module": "@jupyter-widgets/controls",
          "model_name": "HTMLModel",
          "model_module_version": "1.5.0",
          "state": {
            "_dom_classes": [],
            "_model_module": "@jupyter-widgets/controls",
            "_model_module_version": "1.5.0",
            "_model_name": "HTMLModel",
            "_view_count": null,
            "_view_module": "@jupyter-widgets/controls",
            "_view_module_version": "1.5.0",
            "_view_name": "HTMLView",
            "description": "",
            "description_tooltip": null,
            "layout": "IPY_MODEL_75bfda3a504f4c15a5fb4505cf13bc61",
            "placeholder": "​",
            "style": "IPY_MODEL_9353195a770147d59b0459dea9f2d4a3",
            "value": "Training loop: 100%"
          }
        },
        "8f9117e6fa7f41c7a19f3e86eb7f500a": {
          "model_module": "@jupyter-widgets/controls",
          "model_name": "FloatProgressModel",
          "model_module_version": "1.5.0",
          "state": {
            "_dom_classes": [],
            "_model_module": "@jupyter-widgets/controls",
            "_model_module_version": "1.5.0",
            "_model_name": "FloatProgressModel",
            "_view_count": null,
            "_view_module": "@jupyter-widgets/controls",
            "_view_module_version": "1.5.0",
            "_view_name": "ProgressView",
            "bar_style": "success",
            "description": "",
            "description_tooltip": null,
            "layout": "IPY_MODEL_f25924470ea14f8aa8588a8699f6a87b",
            "max": 239,
            "min": 0,
            "orientation": "horizontal",
            "style": "IPY_MODEL_b5f0ac75196048aab26d6c6cd52bb287",
            "value": 239
          }
        },
        "0d4f54d0d54d4777a250695bcc91a725": {
          "model_module": "@jupyter-widgets/controls",
          "model_name": "HTMLModel",
          "model_module_version": "1.5.0",
          "state": {
            "_dom_classes": [],
            "_model_module": "@jupyter-widgets/controls",
            "_model_module_version": "1.5.0",
            "_model_name": "HTMLModel",
            "_view_count": null,
            "_view_module": "@jupyter-widgets/controls",
            "_view_module_version": "1.5.0",
            "_view_name": "HTMLView",
            "description": "",
            "description_tooltip": null,
            "layout": "IPY_MODEL_2fc32e5080ee45fe839e812fd12c7afd",
            "placeholder": "​",
            "style": "IPY_MODEL_5fd7dcb4afa6404daab0b2e38da27051",
            "value": " 239/239 [11:23&lt;00:00,  2.18s/it]"
          }
        },
        "886edcedc711439fa4e77b6b90ecd641": {
          "model_module": "@jupyter-widgets/base",
          "model_name": "LayoutModel",
          "model_module_version": "1.2.0",
          "state": {
            "_model_module": "@jupyter-widgets/base",
            "_model_module_version": "1.2.0",
            "_model_name": "LayoutModel",
            "_view_count": null,
            "_view_module": "@jupyter-widgets/base",
            "_view_module_version": "1.2.0",
            "_view_name": "LayoutView",
            "align_content": null,
            "align_items": null,
            "align_self": null,
            "border": null,
            "bottom": null,
            "display": null,
            "flex": null,
            "flex_flow": null,
            "grid_area": null,
            "grid_auto_columns": null,
            "grid_auto_flow": null,
            "grid_auto_rows": null,
            "grid_column": null,
            "grid_gap": null,
            "grid_row": null,
            "grid_template_areas": null,
            "grid_template_columns": null,
            "grid_template_rows": null,
            "height": null,
            "justify_content": null,
            "justify_items": null,
            "left": null,
            "margin": null,
            "max_height": null,
            "max_width": null,
            "min_height": null,
            "min_width": null,
            "object_fit": null,
            "object_position": null,
            "order": null,
            "overflow": null,
            "overflow_x": null,
            "overflow_y": null,
            "padding": null,
            "right": null,
            "top": null,
            "visibility": null,
            "width": null
          }
        },
        "75bfda3a504f4c15a5fb4505cf13bc61": {
          "model_module": "@jupyter-widgets/base",
          "model_name": "LayoutModel",
          "model_module_version": "1.2.0",
          "state": {
            "_model_module": "@jupyter-widgets/base",
            "_model_module_version": "1.2.0",
            "_model_name": "LayoutModel",
            "_view_count": null,
            "_view_module": "@jupyter-widgets/base",
            "_view_module_version": "1.2.0",
            "_view_name": "LayoutView",
            "align_content": null,
            "align_items": null,
            "align_self": null,
            "border": null,
            "bottom": null,
            "display": null,
            "flex": null,
            "flex_flow": null,
            "grid_area": null,
            "grid_auto_columns": null,
            "grid_auto_flow": null,
            "grid_auto_rows": null,
            "grid_column": null,
            "grid_gap": null,
            "grid_row": null,
            "grid_template_areas": null,
            "grid_template_columns": null,
            "grid_template_rows": null,
            "height": null,
            "justify_content": null,
            "justify_items": null,
            "left": null,
            "margin": null,
            "max_height": null,
            "max_width": null,
            "min_height": null,
            "min_width": null,
            "object_fit": null,
            "object_position": null,
            "order": null,
            "overflow": null,
            "overflow_x": null,
            "overflow_y": null,
            "padding": null,
            "right": null,
            "top": null,
            "visibility": null,
            "width": null
          }
        },
        "9353195a770147d59b0459dea9f2d4a3": {
          "model_module": "@jupyter-widgets/controls",
          "model_name": "DescriptionStyleModel",
          "model_module_version": "1.5.0",
          "state": {
            "_model_module": "@jupyter-widgets/controls",
            "_model_module_version": "1.5.0",
            "_model_name": "DescriptionStyleModel",
            "_view_count": null,
            "_view_module": "@jupyter-widgets/base",
            "_view_module_version": "1.2.0",
            "_view_name": "StyleView",
            "description_width": ""
          }
        },
        "f25924470ea14f8aa8588a8699f6a87b": {
          "model_module": "@jupyter-widgets/base",
          "model_name": "LayoutModel",
          "model_module_version": "1.2.0",
          "state": {
            "_model_module": "@jupyter-widgets/base",
            "_model_module_version": "1.2.0",
            "_model_name": "LayoutModel",
            "_view_count": null,
            "_view_module": "@jupyter-widgets/base",
            "_view_module_version": "1.2.0",
            "_view_name": "LayoutView",
            "align_content": null,
            "align_items": null,
            "align_self": null,
            "border": null,
            "bottom": null,
            "display": null,
            "flex": null,
            "flex_flow": null,
            "grid_area": null,
            "grid_auto_columns": null,
            "grid_auto_flow": null,
            "grid_auto_rows": null,
            "grid_column": null,
            "grid_gap": null,
            "grid_row": null,
            "grid_template_areas": null,
            "grid_template_columns": null,
            "grid_template_rows": null,
            "height": null,
            "justify_content": null,
            "justify_items": null,
            "left": null,
            "margin": null,
            "max_height": null,
            "max_width": null,
            "min_height": null,
            "min_width": null,
            "object_fit": null,
            "object_position": null,
            "order": null,
            "overflow": null,
            "overflow_x": null,
            "overflow_y": null,
            "padding": null,
            "right": null,
            "top": null,
            "visibility": null,
            "width": null
          }
        },
        "b5f0ac75196048aab26d6c6cd52bb287": {
          "model_module": "@jupyter-widgets/controls",
          "model_name": "ProgressStyleModel",
          "model_module_version": "1.5.0",
          "state": {
            "_model_module": "@jupyter-widgets/controls",
            "_model_module_version": "1.5.0",
            "_model_name": "ProgressStyleModel",
            "_view_count": null,
            "_view_module": "@jupyter-widgets/base",
            "_view_module_version": "1.2.0",
            "_view_name": "StyleView",
            "bar_color": null,
            "description_width": ""
          }
        },
        "2fc32e5080ee45fe839e812fd12c7afd": {
          "model_module": "@jupyter-widgets/base",
          "model_name": "LayoutModel",
          "model_module_version": "1.2.0",
          "state": {
            "_model_module": "@jupyter-widgets/base",
            "_model_module_version": "1.2.0",
            "_model_name": "LayoutModel",
            "_view_count": null,
            "_view_module": "@jupyter-widgets/base",
            "_view_module_version": "1.2.0",
            "_view_name": "LayoutView",
            "align_content": null,
            "align_items": null,
            "align_self": null,
            "border": null,
            "bottom": null,
            "display": null,
            "flex": null,
            "flex_flow": null,
            "grid_area": null,
            "grid_auto_columns": null,
            "grid_auto_flow": null,
            "grid_auto_rows": null,
            "grid_column": null,
            "grid_gap": null,
            "grid_row": null,
            "grid_template_areas": null,
            "grid_template_columns": null,
            "grid_template_rows": null,
            "height": null,
            "justify_content": null,
            "justify_items": null,
            "left": null,
            "margin": null,
            "max_height": null,
            "max_width": null,
            "min_height": null,
            "min_width": null,
            "object_fit": null,
            "object_position": null,
            "order": null,
            "overflow": null,
            "overflow_x": null,
            "overflow_y": null,
            "padding": null,
            "right": null,
            "top": null,
            "visibility": null,
            "width": null
          }
        },
        "5fd7dcb4afa6404daab0b2e38da27051": {
          "model_module": "@jupyter-widgets/controls",
          "model_name": "DescriptionStyleModel",
          "model_module_version": "1.5.0",
          "state": {
            "_model_module": "@jupyter-widgets/controls",
            "_model_module_version": "1.5.0",
            "_model_name": "DescriptionStyleModel",
            "_view_count": null,
            "_view_module": "@jupyter-widgets/base",
            "_view_module_version": "1.2.0",
            "_view_name": "StyleView",
            "description_width": ""
          }
        },
        "27e577f484e24e20a68771782bfd7bd9": {
          "model_module": "@jupyter-widgets/controls",
          "model_name": "HBoxModel",
          "model_module_version": "1.5.0",
          "state": {
            "_dom_classes": [],
            "_model_module": "@jupyter-widgets/controls",
            "_model_module_version": "1.5.0",
            "_model_name": "HBoxModel",
            "_view_count": null,
            "_view_module": "@jupyter-widgets/controls",
            "_view_module_version": "1.5.0",
            "_view_name": "HBoxView",
            "box_style": "",
            "children": [
              "IPY_MODEL_c0a6f39451ce4b41a30fe91bf0516afb",
              "IPY_MODEL_2643e8e063e0449c9be065d6be42f647",
              "IPY_MODEL_48716284c70e4504bbb6584d8aa05093"
            ],
            "layout": "IPY_MODEL_65cf8bda2f924a9bb8bb900ef41e56b8"
          }
        },
        "c0a6f39451ce4b41a30fe91bf0516afb": {
          "model_module": "@jupyter-widgets/controls",
          "model_name": "HTMLModel",
          "model_module_version": "1.5.0",
          "state": {
            "_dom_classes": [],
            "_model_module": "@jupyter-widgets/controls",
            "_model_module_version": "1.5.0",
            "_model_name": "HTMLModel",
            "_view_count": null,
            "_view_module": "@jupyter-widgets/controls",
            "_view_module_version": "1.5.0",
            "_view_name": "HTMLView",
            "description": "",
            "description_tooltip": null,
            "layout": "IPY_MODEL_5c2f8b3e5c2e4f61831bc596500733a1",
            "placeholder": "​",
            "style": "IPY_MODEL_56f9f64ecb7d40cc9c68df4e931da4e3",
            "value": "Validation loop: 100%"
          }
        },
        "2643e8e063e0449c9be065d6be42f647": {
          "model_module": "@jupyter-widgets/controls",
          "model_name": "FloatProgressModel",
          "model_module_version": "1.5.0",
          "state": {
            "_dom_classes": [],
            "_model_module": "@jupyter-widgets/controls",
            "_model_module_version": "1.5.0",
            "_model_name": "FloatProgressModel",
            "_view_count": null,
            "_view_module": "@jupyter-widgets/controls",
            "_view_module_version": "1.5.0",
            "_view_name": "ProgressView",
            "bar_style": "success",
            "description": "",
            "description_tooltip": null,
            "layout": "IPY_MODEL_90505f8c08ca4300b548547888e3c2b1",
            "max": 9,
            "min": 0,
            "orientation": "horizontal",
            "style": "IPY_MODEL_21ec3d2725d44daf9e87190224dd06a8",
            "value": 9
          }
        },
        "48716284c70e4504bbb6584d8aa05093": {
          "model_module": "@jupyter-widgets/controls",
          "model_name": "HTMLModel",
          "model_module_version": "1.5.0",
          "state": {
            "_dom_classes": [],
            "_model_module": "@jupyter-widgets/controls",
            "_model_module_version": "1.5.0",
            "_model_name": "HTMLModel",
            "_view_count": null,
            "_view_module": "@jupyter-widgets/controls",
            "_view_module_version": "1.5.0",
            "_view_name": "HTMLView",
            "description": "",
            "description_tooltip": null,
            "layout": "IPY_MODEL_8ce5beb51e0a4297b2230010d27987f5",
            "placeholder": "​",
            "style": "IPY_MODEL_a84ac98563814a6393c7f0b089eba0e7",
            "value": " 9/9 [00:06&lt;00:00,  1.22it/s]"
          }
        },
        "65cf8bda2f924a9bb8bb900ef41e56b8": {
          "model_module": "@jupyter-widgets/base",
          "model_name": "LayoutModel",
          "model_module_version": "1.2.0",
          "state": {
            "_model_module": "@jupyter-widgets/base",
            "_model_module_version": "1.2.0",
            "_model_name": "LayoutModel",
            "_view_count": null,
            "_view_module": "@jupyter-widgets/base",
            "_view_module_version": "1.2.0",
            "_view_name": "LayoutView",
            "align_content": null,
            "align_items": null,
            "align_self": null,
            "border": null,
            "bottom": null,
            "display": null,
            "flex": null,
            "flex_flow": null,
            "grid_area": null,
            "grid_auto_columns": null,
            "grid_auto_flow": null,
            "grid_auto_rows": null,
            "grid_column": null,
            "grid_gap": null,
            "grid_row": null,
            "grid_template_areas": null,
            "grid_template_columns": null,
            "grid_template_rows": null,
            "height": null,
            "justify_content": null,
            "justify_items": null,
            "left": null,
            "margin": null,
            "max_height": null,
            "max_width": null,
            "min_height": null,
            "min_width": null,
            "object_fit": null,
            "object_position": null,
            "order": null,
            "overflow": null,
            "overflow_x": null,
            "overflow_y": null,
            "padding": null,
            "right": null,
            "top": null,
            "visibility": null,
            "width": null
          }
        },
        "5c2f8b3e5c2e4f61831bc596500733a1": {
          "model_module": "@jupyter-widgets/base",
          "model_name": "LayoutModel",
          "model_module_version": "1.2.0",
          "state": {
            "_model_module": "@jupyter-widgets/base",
            "_model_module_version": "1.2.0",
            "_model_name": "LayoutModel",
            "_view_count": null,
            "_view_module": "@jupyter-widgets/base",
            "_view_module_version": "1.2.0",
            "_view_name": "LayoutView",
            "align_content": null,
            "align_items": null,
            "align_self": null,
            "border": null,
            "bottom": null,
            "display": null,
            "flex": null,
            "flex_flow": null,
            "grid_area": null,
            "grid_auto_columns": null,
            "grid_auto_flow": null,
            "grid_auto_rows": null,
            "grid_column": null,
            "grid_gap": null,
            "grid_row": null,
            "grid_template_areas": null,
            "grid_template_columns": null,
            "grid_template_rows": null,
            "height": null,
            "justify_content": null,
            "justify_items": null,
            "left": null,
            "margin": null,
            "max_height": null,
            "max_width": null,
            "min_height": null,
            "min_width": null,
            "object_fit": null,
            "object_position": null,
            "order": null,
            "overflow": null,
            "overflow_x": null,
            "overflow_y": null,
            "padding": null,
            "right": null,
            "top": null,
            "visibility": null,
            "width": null
          }
        },
        "56f9f64ecb7d40cc9c68df4e931da4e3": {
          "model_module": "@jupyter-widgets/controls",
          "model_name": "DescriptionStyleModel",
          "model_module_version": "1.5.0",
          "state": {
            "_model_module": "@jupyter-widgets/controls",
            "_model_module_version": "1.5.0",
            "_model_name": "DescriptionStyleModel",
            "_view_count": null,
            "_view_module": "@jupyter-widgets/base",
            "_view_module_version": "1.2.0",
            "_view_name": "StyleView",
            "description_width": ""
          }
        },
        "90505f8c08ca4300b548547888e3c2b1": {
          "model_module": "@jupyter-widgets/base",
          "model_name": "LayoutModel",
          "model_module_version": "1.2.0",
          "state": {
            "_model_module": "@jupyter-widgets/base",
            "_model_module_version": "1.2.0",
            "_model_name": "LayoutModel",
            "_view_count": null,
            "_view_module": "@jupyter-widgets/base",
            "_view_module_version": "1.2.0",
            "_view_name": "LayoutView",
            "align_content": null,
            "align_items": null,
            "align_self": null,
            "border": null,
            "bottom": null,
            "display": null,
            "flex": null,
            "flex_flow": null,
            "grid_area": null,
            "grid_auto_columns": null,
            "grid_auto_flow": null,
            "grid_auto_rows": null,
            "grid_column": null,
            "grid_gap": null,
            "grid_row": null,
            "grid_template_areas": null,
            "grid_template_columns": null,
            "grid_template_rows": null,
            "height": null,
            "justify_content": null,
            "justify_items": null,
            "left": null,
            "margin": null,
            "max_height": null,
            "max_width": null,
            "min_height": null,
            "min_width": null,
            "object_fit": null,
            "object_position": null,
            "order": null,
            "overflow": null,
            "overflow_x": null,
            "overflow_y": null,
            "padding": null,
            "right": null,
            "top": null,
            "visibility": null,
            "width": null
          }
        },
        "21ec3d2725d44daf9e87190224dd06a8": {
          "model_module": "@jupyter-widgets/controls",
          "model_name": "ProgressStyleModel",
          "model_module_version": "1.5.0",
          "state": {
            "_model_module": "@jupyter-widgets/controls",
            "_model_module_version": "1.5.0",
            "_model_name": "ProgressStyleModel",
            "_view_count": null,
            "_view_module": "@jupyter-widgets/base",
            "_view_module_version": "1.2.0",
            "_view_name": "StyleView",
            "bar_color": null,
            "description_width": ""
          }
        },
        "8ce5beb51e0a4297b2230010d27987f5": {
          "model_module": "@jupyter-widgets/base",
          "model_name": "LayoutModel",
          "model_module_version": "1.2.0",
          "state": {
            "_model_module": "@jupyter-widgets/base",
            "_model_module_version": "1.2.0",
            "_model_name": "LayoutModel",
            "_view_count": null,
            "_view_module": "@jupyter-widgets/base",
            "_view_module_version": "1.2.0",
            "_view_name": "LayoutView",
            "align_content": null,
            "align_items": null,
            "align_self": null,
            "border": null,
            "bottom": null,
            "display": null,
            "flex": null,
            "flex_flow": null,
            "grid_area": null,
            "grid_auto_columns": null,
            "grid_auto_flow": null,
            "grid_auto_rows": null,
            "grid_column": null,
            "grid_gap": null,
            "grid_row": null,
            "grid_template_areas": null,
            "grid_template_columns": null,
            "grid_template_rows": null,
            "height": null,
            "justify_content": null,
            "justify_items": null,
            "left": null,
            "margin": null,
            "max_height": null,
            "max_width": null,
            "min_height": null,
            "min_width": null,
            "object_fit": null,
            "object_position": null,
            "order": null,
            "overflow": null,
            "overflow_x": null,
            "overflow_y": null,
            "padding": null,
            "right": null,
            "top": null,
            "visibility": null,
            "width": null
          }
        },
        "a84ac98563814a6393c7f0b089eba0e7": {
          "model_module": "@jupyter-widgets/controls",
          "model_name": "DescriptionStyleModel",
          "model_module_version": "1.5.0",
          "state": {
            "_model_module": "@jupyter-widgets/controls",
            "_model_module_version": "1.5.0",
            "_model_name": "DescriptionStyleModel",
            "_view_count": null,
            "_view_module": "@jupyter-widgets/base",
            "_view_module_version": "1.2.0",
            "_view_name": "StyleView",
            "description_width": ""
          }
        },
        "79ca7a55c31c452c8d97f8906ae0bbe9": {
          "model_module": "@jupyter-widgets/controls",
          "model_name": "HBoxModel",
          "model_module_version": "1.5.0",
          "state": {
            "_dom_classes": [],
            "_model_module": "@jupyter-widgets/controls",
            "_model_module_version": "1.5.0",
            "_model_name": "HBoxModel",
            "_view_count": null,
            "_view_module": "@jupyter-widgets/controls",
            "_view_module_version": "1.5.0",
            "_view_name": "HBoxView",
            "box_style": "",
            "children": [
              "IPY_MODEL_b8f73d164bbc487cbb95f8e9c7a502ee",
              "IPY_MODEL_073a60ea78e84007a7f89c5205af5617",
              "IPY_MODEL_71bcad35ccdd4ba6a174db834b2a3ebe"
            ],
            "layout": "IPY_MODEL_0d1ff190a2e944e6852ef0b2a4e7c3bc"
          }
        },
        "b8f73d164bbc487cbb95f8e9c7a502ee": {
          "model_module": "@jupyter-widgets/controls",
          "model_name": "HTMLModel",
          "model_module_version": "1.5.0",
          "state": {
            "_dom_classes": [],
            "_model_module": "@jupyter-widgets/controls",
            "_model_module_version": "1.5.0",
            "_model_name": "HTMLModel",
            "_view_count": null,
            "_view_module": "@jupyter-widgets/controls",
            "_view_module_version": "1.5.0",
            "_view_name": "HTMLView",
            "description": "",
            "description_tooltip": null,
            "layout": "IPY_MODEL_2816eaf0856048f380a7b42d0d08c781",
            "placeholder": "​",
            "style": "IPY_MODEL_086f6706872c4cd98b7273c9a4d433a8",
            "value": "Training loop: 100%"
          }
        },
        "073a60ea78e84007a7f89c5205af5617": {
          "model_module": "@jupyter-widgets/controls",
          "model_name": "FloatProgressModel",
          "model_module_version": "1.5.0",
          "state": {
            "_dom_classes": [],
            "_model_module": "@jupyter-widgets/controls",
            "_model_module_version": "1.5.0",
            "_model_name": "FloatProgressModel",
            "_view_count": null,
            "_view_module": "@jupyter-widgets/controls",
            "_view_module_version": "1.5.0",
            "_view_name": "ProgressView",
            "bar_style": "success",
            "description": "",
            "description_tooltip": null,
            "layout": "IPY_MODEL_c7edf13a7814493c8b6cb0bdaafb2fe4",
            "max": 239,
            "min": 0,
            "orientation": "horizontal",
            "style": "IPY_MODEL_811ba9fd4fa543c49ef7a4edca4e3979",
            "value": 239
          }
        },
        "71bcad35ccdd4ba6a174db834b2a3ebe": {
          "model_module": "@jupyter-widgets/controls",
          "model_name": "HTMLModel",
          "model_module_version": "1.5.0",
          "state": {
            "_dom_classes": [],
            "_model_module": "@jupyter-widgets/controls",
            "_model_module_version": "1.5.0",
            "_model_name": "HTMLModel",
            "_view_count": null,
            "_view_module": "@jupyter-widgets/controls",
            "_view_module_version": "1.5.0",
            "_view_name": "HTMLView",
            "description": "",
            "description_tooltip": null,
            "layout": "IPY_MODEL_05bd1f90520a46e3b70f79e57b650487",
            "placeholder": "​",
            "style": "IPY_MODEL_54ad8675ee18415aa88a1336e5810be2",
            "value": " 239/239 [11:10&lt;00:00,  2.22s/it]"
          }
        },
        "0d1ff190a2e944e6852ef0b2a4e7c3bc": {
          "model_module": "@jupyter-widgets/base",
          "model_name": "LayoutModel",
          "model_module_version": "1.2.0",
          "state": {
            "_model_module": "@jupyter-widgets/base",
            "_model_module_version": "1.2.0",
            "_model_name": "LayoutModel",
            "_view_count": null,
            "_view_module": "@jupyter-widgets/base",
            "_view_module_version": "1.2.0",
            "_view_name": "LayoutView",
            "align_content": null,
            "align_items": null,
            "align_self": null,
            "border": null,
            "bottom": null,
            "display": null,
            "flex": null,
            "flex_flow": null,
            "grid_area": null,
            "grid_auto_columns": null,
            "grid_auto_flow": null,
            "grid_auto_rows": null,
            "grid_column": null,
            "grid_gap": null,
            "grid_row": null,
            "grid_template_areas": null,
            "grid_template_columns": null,
            "grid_template_rows": null,
            "height": null,
            "justify_content": null,
            "justify_items": null,
            "left": null,
            "margin": null,
            "max_height": null,
            "max_width": null,
            "min_height": null,
            "min_width": null,
            "object_fit": null,
            "object_position": null,
            "order": null,
            "overflow": null,
            "overflow_x": null,
            "overflow_y": null,
            "padding": null,
            "right": null,
            "top": null,
            "visibility": null,
            "width": null
          }
        },
        "2816eaf0856048f380a7b42d0d08c781": {
          "model_module": "@jupyter-widgets/base",
          "model_name": "LayoutModel",
          "model_module_version": "1.2.0",
          "state": {
            "_model_module": "@jupyter-widgets/base",
            "_model_module_version": "1.2.0",
            "_model_name": "LayoutModel",
            "_view_count": null,
            "_view_module": "@jupyter-widgets/base",
            "_view_module_version": "1.2.0",
            "_view_name": "LayoutView",
            "align_content": null,
            "align_items": null,
            "align_self": null,
            "border": null,
            "bottom": null,
            "display": null,
            "flex": null,
            "flex_flow": null,
            "grid_area": null,
            "grid_auto_columns": null,
            "grid_auto_flow": null,
            "grid_auto_rows": null,
            "grid_column": null,
            "grid_gap": null,
            "grid_row": null,
            "grid_template_areas": null,
            "grid_template_columns": null,
            "grid_template_rows": null,
            "height": null,
            "justify_content": null,
            "justify_items": null,
            "left": null,
            "margin": null,
            "max_height": null,
            "max_width": null,
            "min_height": null,
            "min_width": null,
            "object_fit": null,
            "object_position": null,
            "order": null,
            "overflow": null,
            "overflow_x": null,
            "overflow_y": null,
            "padding": null,
            "right": null,
            "top": null,
            "visibility": null,
            "width": null
          }
        },
        "086f6706872c4cd98b7273c9a4d433a8": {
          "model_module": "@jupyter-widgets/controls",
          "model_name": "DescriptionStyleModel",
          "model_module_version": "1.5.0",
          "state": {
            "_model_module": "@jupyter-widgets/controls",
            "_model_module_version": "1.5.0",
            "_model_name": "DescriptionStyleModel",
            "_view_count": null,
            "_view_module": "@jupyter-widgets/base",
            "_view_module_version": "1.2.0",
            "_view_name": "StyleView",
            "description_width": ""
          }
        },
        "c7edf13a7814493c8b6cb0bdaafb2fe4": {
          "model_module": "@jupyter-widgets/base",
          "model_name": "LayoutModel",
          "model_module_version": "1.2.0",
          "state": {
            "_model_module": "@jupyter-widgets/base",
            "_model_module_version": "1.2.0",
            "_model_name": "LayoutModel",
            "_view_count": null,
            "_view_module": "@jupyter-widgets/base",
            "_view_module_version": "1.2.0",
            "_view_name": "LayoutView",
            "align_content": null,
            "align_items": null,
            "align_self": null,
            "border": null,
            "bottom": null,
            "display": null,
            "flex": null,
            "flex_flow": null,
            "grid_area": null,
            "grid_auto_columns": null,
            "grid_auto_flow": null,
            "grid_auto_rows": null,
            "grid_column": null,
            "grid_gap": null,
            "grid_row": null,
            "grid_template_areas": null,
            "grid_template_columns": null,
            "grid_template_rows": null,
            "height": null,
            "justify_content": null,
            "justify_items": null,
            "left": null,
            "margin": null,
            "max_height": null,
            "max_width": null,
            "min_height": null,
            "min_width": null,
            "object_fit": null,
            "object_position": null,
            "order": null,
            "overflow": null,
            "overflow_x": null,
            "overflow_y": null,
            "padding": null,
            "right": null,
            "top": null,
            "visibility": null,
            "width": null
          }
        },
        "811ba9fd4fa543c49ef7a4edca4e3979": {
          "model_module": "@jupyter-widgets/controls",
          "model_name": "ProgressStyleModel",
          "model_module_version": "1.5.0",
          "state": {
            "_model_module": "@jupyter-widgets/controls",
            "_model_module_version": "1.5.0",
            "_model_name": "ProgressStyleModel",
            "_view_count": null,
            "_view_module": "@jupyter-widgets/base",
            "_view_module_version": "1.2.0",
            "_view_name": "StyleView",
            "bar_color": null,
            "description_width": ""
          }
        },
        "05bd1f90520a46e3b70f79e57b650487": {
          "model_module": "@jupyter-widgets/base",
          "model_name": "LayoutModel",
          "model_module_version": "1.2.0",
          "state": {
            "_model_module": "@jupyter-widgets/base",
            "_model_module_version": "1.2.0",
            "_model_name": "LayoutModel",
            "_view_count": null,
            "_view_module": "@jupyter-widgets/base",
            "_view_module_version": "1.2.0",
            "_view_name": "LayoutView",
            "align_content": null,
            "align_items": null,
            "align_self": null,
            "border": null,
            "bottom": null,
            "display": null,
            "flex": null,
            "flex_flow": null,
            "grid_area": null,
            "grid_auto_columns": null,
            "grid_auto_flow": null,
            "grid_auto_rows": null,
            "grid_column": null,
            "grid_gap": null,
            "grid_row": null,
            "grid_template_areas": null,
            "grid_template_columns": null,
            "grid_template_rows": null,
            "height": null,
            "justify_content": null,
            "justify_items": null,
            "left": null,
            "margin": null,
            "max_height": null,
            "max_width": null,
            "min_height": null,
            "min_width": null,
            "object_fit": null,
            "object_position": null,
            "order": null,
            "overflow": null,
            "overflow_x": null,
            "overflow_y": null,
            "padding": null,
            "right": null,
            "top": null,
            "visibility": null,
            "width": null
          }
        },
        "54ad8675ee18415aa88a1336e5810be2": {
          "model_module": "@jupyter-widgets/controls",
          "model_name": "DescriptionStyleModel",
          "model_module_version": "1.5.0",
          "state": {
            "_model_module": "@jupyter-widgets/controls",
            "_model_module_version": "1.5.0",
            "_model_name": "DescriptionStyleModel",
            "_view_count": null,
            "_view_module": "@jupyter-widgets/base",
            "_view_module_version": "1.2.0",
            "_view_name": "StyleView",
            "description_width": ""
          }
        },
        "3d130c20f5d04cd096a03d589c8bc642": {
          "model_module": "@jupyter-widgets/controls",
          "model_name": "HBoxModel",
          "model_module_version": "1.5.0",
          "state": {
            "_dom_classes": [],
            "_model_module": "@jupyter-widgets/controls",
            "_model_module_version": "1.5.0",
            "_model_name": "HBoxModel",
            "_view_count": null,
            "_view_module": "@jupyter-widgets/controls",
            "_view_module_version": "1.5.0",
            "_view_name": "HBoxView",
            "box_style": "",
            "children": [
              "IPY_MODEL_7ac9b108374e43139e94f7a400af7318",
              "IPY_MODEL_33cd5f8b009b4b89a0b628829c60a92d",
              "IPY_MODEL_ef9d068be40e405fb4883f0e436d0788"
            ],
            "layout": "IPY_MODEL_78005ae3c4a94ac5a4c6d7c076808c97"
          }
        },
        "7ac9b108374e43139e94f7a400af7318": {
          "model_module": "@jupyter-widgets/controls",
          "model_name": "HTMLModel",
          "model_module_version": "1.5.0",
          "state": {
            "_dom_classes": [],
            "_model_module": "@jupyter-widgets/controls",
            "_model_module_version": "1.5.0",
            "_model_name": "HTMLModel",
            "_view_count": null,
            "_view_module": "@jupyter-widgets/controls",
            "_view_module_version": "1.5.0",
            "_view_name": "HTMLView",
            "description": "",
            "description_tooltip": null,
            "layout": "IPY_MODEL_ac825b58ba254c53aacb09734c97bcb7",
            "placeholder": "​",
            "style": "IPY_MODEL_bb8b8bf164a64ec7bd17364d44c9a295",
            "value": "Validation loop: 100%"
          }
        },
        "33cd5f8b009b4b89a0b628829c60a92d": {
          "model_module": "@jupyter-widgets/controls",
          "model_name": "FloatProgressModel",
          "model_module_version": "1.5.0",
          "state": {
            "_dom_classes": [],
            "_model_module": "@jupyter-widgets/controls",
            "_model_module_version": "1.5.0",
            "_model_name": "FloatProgressModel",
            "_view_count": null,
            "_view_module": "@jupyter-widgets/controls",
            "_view_module_version": "1.5.0",
            "_view_name": "ProgressView",
            "bar_style": "success",
            "description": "",
            "description_tooltip": null,
            "layout": "IPY_MODEL_9124f1c58b2e4267a6be3b45e0d1344e",
            "max": 9,
            "min": 0,
            "orientation": "horizontal",
            "style": "IPY_MODEL_37cd25a1055349728b24867ad8bf7a84",
            "value": 9
          }
        },
        "ef9d068be40e405fb4883f0e436d0788": {
          "model_module": "@jupyter-widgets/controls",
          "model_name": "HTMLModel",
          "model_module_version": "1.5.0",
          "state": {
            "_dom_classes": [],
            "_model_module": "@jupyter-widgets/controls",
            "_model_module_version": "1.5.0",
            "_model_name": "HTMLModel",
            "_view_count": null,
            "_view_module": "@jupyter-widgets/controls",
            "_view_module_version": "1.5.0",
            "_view_name": "HTMLView",
            "description": "",
            "description_tooltip": null,
            "layout": "IPY_MODEL_66d766dc0fdf46dba420487b9a467cec",
            "placeholder": "​",
            "style": "IPY_MODEL_0962e48a49794ea68b15299c615d0285",
            "value": " 9/9 [00:04&lt;00:00,  2.25it/s]"
          }
        },
        "78005ae3c4a94ac5a4c6d7c076808c97": {
          "model_module": "@jupyter-widgets/base",
          "model_name": "LayoutModel",
          "model_module_version": "1.2.0",
          "state": {
            "_model_module": "@jupyter-widgets/base",
            "_model_module_version": "1.2.0",
            "_model_name": "LayoutModel",
            "_view_count": null,
            "_view_module": "@jupyter-widgets/base",
            "_view_module_version": "1.2.0",
            "_view_name": "LayoutView",
            "align_content": null,
            "align_items": null,
            "align_self": null,
            "border": null,
            "bottom": null,
            "display": null,
            "flex": null,
            "flex_flow": null,
            "grid_area": null,
            "grid_auto_columns": null,
            "grid_auto_flow": null,
            "grid_auto_rows": null,
            "grid_column": null,
            "grid_gap": null,
            "grid_row": null,
            "grid_template_areas": null,
            "grid_template_columns": null,
            "grid_template_rows": null,
            "height": null,
            "justify_content": null,
            "justify_items": null,
            "left": null,
            "margin": null,
            "max_height": null,
            "max_width": null,
            "min_height": null,
            "min_width": null,
            "object_fit": null,
            "object_position": null,
            "order": null,
            "overflow": null,
            "overflow_x": null,
            "overflow_y": null,
            "padding": null,
            "right": null,
            "top": null,
            "visibility": null,
            "width": null
          }
        },
        "ac825b58ba254c53aacb09734c97bcb7": {
          "model_module": "@jupyter-widgets/base",
          "model_name": "LayoutModel",
          "model_module_version": "1.2.0",
          "state": {
            "_model_module": "@jupyter-widgets/base",
            "_model_module_version": "1.2.0",
            "_model_name": "LayoutModel",
            "_view_count": null,
            "_view_module": "@jupyter-widgets/base",
            "_view_module_version": "1.2.0",
            "_view_name": "LayoutView",
            "align_content": null,
            "align_items": null,
            "align_self": null,
            "border": null,
            "bottom": null,
            "display": null,
            "flex": null,
            "flex_flow": null,
            "grid_area": null,
            "grid_auto_columns": null,
            "grid_auto_flow": null,
            "grid_auto_rows": null,
            "grid_column": null,
            "grid_gap": null,
            "grid_row": null,
            "grid_template_areas": null,
            "grid_template_columns": null,
            "grid_template_rows": null,
            "height": null,
            "justify_content": null,
            "justify_items": null,
            "left": null,
            "margin": null,
            "max_height": null,
            "max_width": null,
            "min_height": null,
            "min_width": null,
            "object_fit": null,
            "object_position": null,
            "order": null,
            "overflow": null,
            "overflow_x": null,
            "overflow_y": null,
            "padding": null,
            "right": null,
            "top": null,
            "visibility": null,
            "width": null
          }
        },
        "bb8b8bf164a64ec7bd17364d44c9a295": {
          "model_module": "@jupyter-widgets/controls",
          "model_name": "DescriptionStyleModel",
          "model_module_version": "1.5.0",
          "state": {
            "_model_module": "@jupyter-widgets/controls",
            "_model_module_version": "1.5.0",
            "_model_name": "DescriptionStyleModel",
            "_view_count": null,
            "_view_module": "@jupyter-widgets/base",
            "_view_module_version": "1.2.0",
            "_view_name": "StyleView",
            "description_width": ""
          }
        },
        "9124f1c58b2e4267a6be3b45e0d1344e": {
          "model_module": "@jupyter-widgets/base",
          "model_name": "LayoutModel",
          "model_module_version": "1.2.0",
          "state": {
            "_model_module": "@jupyter-widgets/base",
            "_model_module_version": "1.2.0",
            "_model_name": "LayoutModel",
            "_view_count": null,
            "_view_module": "@jupyter-widgets/base",
            "_view_module_version": "1.2.0",
            "_view_name": "LayoutView",
            "align_content": null,
            "align_items": null,
            "align_self": null,
            "border": null,
            "bottom": null,
            "display": null,
            "flex": null,
            "flex_flow": null,
            "grid_area": null,
            "grid_auto_columns": null,
            "grid_auto_flow": null,
            "grid_auto_rows": null,
            "grid_column": null,
            "grid_gap": null,
            "grid_row": null,
            "grid_template_areas": null,
            "grid_template_columns": null,
            "grid_template_rows": null,
            "height": null,
            "justify_content": null,
            "justify_items": null,
            "left": null,
            "margin": null,
            "max_height": null,
            "max_width": null,
            "min_height": null,
            "min_width": null,
            "object_fit": null,
            "object_position": null,
            "order": null,
            "overflow": null,
            "overflow_x": null,
            "overflow_y": null,
            "padding": null,
            "right": null,
            "top": null,
            "visibility": null,
            "width": null
          }
        },
        "37cd25a1055349728b24867ad8bf7a84": {
          "model_module": "@jupyter-widgets/controls",
          "model_name": "ProgressStyleModel",
          "model_module_version": "1.5.0",
          "state": {
            "_model_module": "@jupyter-widgets/controls",
            "_model_module_version": "1.5.0",
            "_model_name": "ProgressStyleModel",
            "_view_count": null,
            "_view_module": "@jupyter-widgets/base",
            "_view_module_version": "1.2.0",
            "_view_name": "StyleView",
            "bar_color": null,
            "description_width": ""
          }
        },
        "66d766dc0fdf46dba420487b9a467cec": {
          "model_module": "@jupyter-widgets/base",
          "model_name": "LayoutModel",
          "model_module_version": "1.2.0",
          "state": {
            "_model_module": "@jupyter-widgets/base",
            "_model_module_version": "1.2.0",
            "_model_name": "LayoutModel",
            "_view_count": null,
            "_view_module": "@jupyter-widgets/base",
            "_view_module_version": "1.2.0",
            "_view_name": "LayoutView",
            "align_content": null,
            "align_items": null,
            "align_self": null,
            "border": null,
            "bottom": null,
            "display": null,
            "flex": null,
            "flex_flow": null,
            "grid_area": null,
            "grid_auto_columns": null,
            "grid_auto_flow": null,
            "grid_auto_rows": null,
            "grid_column": null,
            "grid_gap": null,
            "grid_row": null,
            "grid_template_areas": null,
            "grid_template_columns": null,
            "grid_template_rows": null,
            "height": null,
            "justify_content": null,
            "justify_items": null,
            "left": null,
            "margin": null,
            "max_height": null,
            "max_width": null,
            "min_height": null,
            "min_width": null,
            "object_fit": null,
            "object_position": null,
            "order": null,
            "overflow": null,
            "overflow_x": null,
            "overflow_y": null,
            "padding": null,
            "right": null,
            "top": null,
            "visibility": null,
            "width": null
          }
        },
        "0962e48a49794ea68b15299c615d0285": {
          "model_module": "@jupyter-widgets/controls",
          "model_name": "DescriptionStyleModel",
          "model_module_version": "1.5.0",
          "state": {
            "_model_module": "@jupyter-widgets/controls",
            "_model_module_version": "1.5.0",
            "_model_name": "DescriptionStyleModel",
            "_view_count": null,
            "_view_module": "@jupyter-widgets/base",
            "_view_module_version": "1.2.0",
            "_view_name": "StyleView",
            "description_width": ""
          }
        },
        "82a984bf0b7e441e9003af7116adb980": {
          "model_module": "@jupyter-widgets/controls",
          "model_name": "HBoxModel",
          "model_module_version": "1.5.0",
          "state": {
            "_dom_classes": [],
            "_model_module": "@jupyter-widgets/controls",
            "_model_module_version": "1.5.0",
            "_model_name": "HBoxModel",
            "_view_count": null,
            "_view_module": "@jupyter-widgets/controls",
            "_view_module_version": "1.5.0",
            "_view_name": "HBoxView",
            "box_style": "",
            "children": [
              "IPY_MODEL_01ac073a2711461ea7309c1ff9ef5b76",
              "IPY_MODEL_aac90b670844428bb327fca32114280d",
              "IPY_MODEL_31630a2f9e6347d0bf7c8bfe94b1f490"
            ],
            "layout": "IPY_MODEL_9b8dbf72c50d4a8f86fd8ae31a67925d"
          }
        },
        "01ac073a2711461ea7309c1ff9ef5b76": {
          "model_module": "@jupyter-widgets/controls",
          "model_name": "HTMLModel",
          "model_module_version": "1.5.0",
          "state": {
            "_dom_classes": [],
            "_model_module": "@jupyter-widgets/controls",
            "_model_module_version": "1.5.0",
            "_model_name": "HTMLModel",
            "_view_count": null,
            "_view_module": "@jupyter-widgets/controls",
            "_view_module_version": "1.5.0",
            "_view_name": "HTMLView",
            "description": "",
            "description_tooltip": null,
            "layout": "IPY_MODEL_569795a78ff0409bb7f8dfc9f55f209d",
            "placeholder": "​",
            "style": "IPY_MODEL_5f64dbf9fca0454b80294853ece45bd1",
            "value": "Training loop:  70%"
          }
        },
        "aac90b670844428bb327fca32114280d": {
          "model_module": "@jupyter-widgets/controls",
          "model_name": "FloatProgressModel",
          "model_module_version": "1.5.0",
          "state": {
            "_dom_classes": [],
            "_model_module": "@jupyter-widgets/controls",
            "_model_module_version": "1.5.0",
            "_model_name": "FloatProgressModel",
            "_view_count": null,
            "_view_module": "@jupyter-widgets/controls",
            "_view_module_version": "1.5.0",
            "_view_name": "ProgressView",
            "bar_style": "",
            "description": "",
            "description_tooltip": null,
            "layout": "IPY_MODEL_b99201bbdbdc45819904f68b5932ea9f",
            "max": 239,
            "min": 0,
            "orientation": "horizontal",
            "style": "IPY_MODEL_2c6ebb59410b4d39aca3fdfc3379ae4d",
            "value": 168
          }
        },
        "31630a2f9e6347d0bf7c8bfe94b1f490": {
          "model_module": "@jupyter-widgets/controls",
          "model_name": "HTMLModel",
          "model_module_version": "1.5.0",
          "state": {
            "_dom_classes": [],
            "_model_module": "@jupyter-widgets/controls",
            "_model_module_version": "1.5.0",
            "_model_name": "HTMLModel",
            "_view_count": null,
            "_view_module": "@jupyter-widgets/controls",
            "_view_module_version": "1.5.0",
            "_view_name": "HTMLView",
            "description": "",
            "description_tooltip": null,
            "layout": "IPY_MODEL_2a922c053d2445a59ec44027c9c32b61",
            "placeholder": "​",
            "style": "IPY_MODEL_eb2172f8eb504d40baf4f79629b2940b",
            "value": " 168/239 [07:54&lt;03:22,  2.85s/it]"
          }
        },
        "9b8dbf72c50d4a8f86fd8ae31a67925d": {
          "model_module": "@jupyter-widgets/base",
          "model_name": "LayoutModel",
          "model_module_version": "1.2.0",
          "state": {
            "_model_module": "@jupyter-widgets/base",
            "_model_module_version": "1.2.0",
            "_model_name": "LayoutModel",
            "_view_count": null,
            "_view_module": "@jupyter-widgets/base",
            "_view_module_version": "1.2.0",
            "_view_name": "LayoutView",
            "align_content": null,
            "align_items": null,
            "align_self": null,
            "border": null,
            "bottom": null,
            "display": null,
            "flex": null,
            "flex_flow": null,
            "grid_area": null,
            "grid_auto_columns": null,
            "grid_auto_flow": null,
            "grid_auto_rows": null,
            "grid_column": null,
            "grid_gap": null,
            "grid_row": null,
            "grid_template_areas": null,
            "grid_template_columns": null,
            "grid_template_rows": null,
            "height": null,
            "justify_content": null,
            "justify_items": null,
            "left": null,
            "margin": null,
            "max_height": null,
            "max_width": null,
            "min_height": null,
            "min_width": null,
            "object_fit": null,
            "object_position": null,
            "order": null,
            "overflow": null,
            "overflow_x": null,
            "overflow_y": null,
            "padding": null,
            "right": null,
            "top": null,
            "visibility": null,
            "width": null
          }
        },
        "569795a78ff0409bb7f8dfc9f55f209d": {
          "model_module": "@jupyter-widgets/base",
          "model_name": "LayoutModel",
          "model_module_version": "1.2.0",
          "state": {
            "_model_module": "@jupyter-widgets/base",
            "_model_module_version": "1.2.0",
            "_model_name": "LayoutModel",
            "_view_count": null,
            "_view_module": "@jupyter-widgets/base",
            "_view_module_version": "1.2.0",
            "_view_name": "LayoutView",
            "align_content": null,
            "align_items": null,
            "align_self": null,
            "border": null,
            "bottom": null,
            "display": null,
            "flex": null,
            "flex_flow": null,
            "grid_area": null,
            "grid_auto_columns": null,
            "grid_auto_flow": null,
            "grid_auto_rows": null,
            "grid_column": null,
            "grid_gap": null,
            "grid_row": null,
            "grid_template_areas": null,
            "grid_template_columns": null,
            "grid_template_rows": null,
            "height": null,
            "justify_content": null,
            "justify_items": null,
            "left": null,
            "margin": null,
            "max_height": null,
            "max_width": null,
            "min_height": null,
            "min_width": null,
            "object_fit": null,
            "object_position": null,
            "order": null,
            "overflow": null,
            "overflow_x": null,
            "overflow_y": null,
            "padding": null,
            "right": null,
            "top": null,
            "visibility": null,
            "width": null
          }
        },
        "5f64dbf9fca0454b80294853ece45bd1": {
          "model_module": "@jupyter-widgets/controls",
          "model_name": "DescriptionStyleModel",
          "model_module_version": "1.5.0",
          "state": {
            "_model_module": "@jupyter-widgets/controls",
            "_model_module_version": "1.5.0",
            "_model_name": "DescriptionStyleModel",
            "_view_count": null,
            "_view_module": "@jupyter-widgets/base",
            "_view_module_version": "1.2.0",
            "_view_name": "StyleView",
            "description_width": ""
          }
        },
        "b99201bbdbdc45819904f68b5932ea9f": {
          "model_module": "@jupyter-widgets/base",
          "model_name": "LayoutModel",
          "model_module_version": "1.2.0",
          "state": {
            "_model_module": "@jupyter-widgets/base",
            "_model_module_version": "1.2.0",
            "_model_name": "LayoutModel",
            "_view_count": null,
            "_view_module": "@jupyter-widgets/base",
            "_view_module_version": "1.2.0",
            "_view_name": "LayoutView",
            "align_content": null,
            "align_items": null,
            "align_self": null,
            "border": null,
            "bottom": null,
            "display": null,
            "flex": null,
            "flex_flow": null,
            "grid_area": null,
            "grid_auto_columns": null,
            "grid_auto_flow": null,
            "grid_auto_rows": null,
            "grid_column": null,
            "grid_gap": null,
            "grid_row": null,
            "grid_template_areas": null,
            "grid_template_columns": null,
            "grid_template_rows": null,
            "height": null,
            "justify_content": null,
            "justify_items": null,
            "left": null,
            "margin": null,
            "max_height": null,
            "max_width": null,
            "min_height": null,
            "min_width": null,
            "object_fit": null,
            "object_position": null,
            "order": null,
            "overflow": null,
            "overflow_x": null,
            "overflow_y": null,
            "padding": null,
            "right": null,
            "top": null,
            "visibility": null,
            "width": null
          }
        },
        "2c6ebb59410b4d39aca3fdfc3379ae4d": {
          "model_module": "@jupyter-widgets/controls",
          "model_name": "ProgressStyleModel",
          "model_module_version": "1.5.0",
          "state": {
            "_model_module": "@jupyter-widgets/controls",
            "_model_module_version": "1.5.0",
            "_model_name": "ProgressStyleModel",
            "_view_count": null,
            "_view_module": "@jupyter-widgets/base",
            "_view_module_version": "1.2.0",
            "_view_name": "StyleView",
            "bar_color": null,
            "description_width": ""
          }
        },
        "2a922c053d2445a59ec44027c9c32b61": {
          "model_module": "@jupyter-widgets/base",
          "model_name": "LayoutModel",
          "model_module_version": "1.2.0",
          "state": {
            "_model_module": "@jupyter-widgets/base",
            "_model_module_version": "1.2.0",
            "_model_name": "LayoutModel",
            "_view_count": null,
            "_view_module": "@jupyter-widgets/base",
            "_view_module_version": "1.2.0",
            "_view_name": "LayoutView",
            "align_content": null,
            "align_items": null,
            "align_self": null,
            "border": null,
            "bottom": null,
            "display": null,
            "flex": null,
            "flex_flow": null,
            "grid_area": null,
            "grid_auto_columns": null,
            "grid_auto_flow": null,
            "grid_auto_rows": null,
            "grid_column": null,
            "grid_gap": null,
            "grid_row": null,
            "grid_template_areas": null,
            "grid_template_columns": null,
            "grid_template_rows": null,
            "height": null,
            "justify_content": null,
            "justify_items": null,
            "left": null,
            "margin": null,
            "max_height": null,
            "max_width": null,
            "min_height": null,
            "min_width": null,
            "object_fit": null,
            "object_position": null,
            "order": null,
            "overflow": null,
            "overflow_x": null,
            "overflow_y": null,
            "padding": null,
            "right": null,
            "top": null,
            "visibility": null,
            "width": null
          }
        },
        "eb2172f8eb504d40baf4f79629b2940b": {
          "model_module": "@jupyter-widgets/controls",
          "model_name": "DescriptionStyleModel",
          "model_module_version": "1.5.0",
          "state": {
            "_model_module": "@jupyter-widgets/controls",
            "_model_module_version": "1.5.0",
            "_model_name": "DescriptionStyleModel",
            "_view_count": null,
            "_view_module": "@jupyter-widgets/base",
            "_view_module_version": "1.2.0",
            "_view_name": "StyleView",
            "description_width": ""
          }
        },
        "9026cbd081134b0eabcd965fa544b124": {
          "model_module": "@jupyter-widgets/controls",
          "model_name": "HBoxModel",
          "model_module_version": "1.5.0",
          "state": {
            "_dom_classes": [],
            "_model_module": "@jupyter-widgets/controls",
            "_model_module_version": "1.5.0",
            "_model_name": "HBoxModel",
            "_view_count": null,
            "_view_module": "@jupyter-widgets/controls",
            "_view_module_version": "1.5.0",
            "_view_name": "HBoxView",
            "box_style": "",
            "children": [
              "IPY_MODEL_2ff9763ac7924c7bb9a7940008485409",
              "IPY_MODEL_a2d661a45e66421bb82b0498408e7098",
              "IPY_MODEL_4781acda85554d00a75b33cbc407ac2a"
            ],
            "layout": "IPY_MODEL_5c493eddbc4b475e8b949cd8975eba89"
          }
        },
        "2ff9763ac7924c7bb9a7940008485409": {
          "model_module": "@jupyter-widgets/controls",
          "model_name": "HTMLModel",
          "model_module_version": "1.5.0",
          "state": {
            "_dom_classes": [],
            "_model_module": "@jupyter-widgets/controls",
            "_model_module_version": "1.5.0",
            "_model_name": "HTMLModel",
            "_view_count": null,
            "_view_module": "@jupyter-widgets/controls",
            "_view_module_version": "1.5.0",
            "_view_name": "HTMLView",
            "description": "",
            "description_tooltip": null,
            "layout": "IPY_MODEL_156e71eaf63b469d8ab87f5d252caebc",
            "placeholder": "​",
            "style": "IPY_MODEL_181c0972bb5649b8a2a17c966336029d",
            "value": "Validation loop: 100%"
          }
        },
        "a2d661a45e66421bb82b0498408e7098": {
          "model_module": "@jupyter-widgets/controls",
          "model_name": "FloatProgressModel",
          "model_module_version": "1.5.0",
          "state": {
            "_dom_classes": [],
            "_model_module": "@jupyter-widgets/controls",
            "_model_module_version": "1.5.0",
            "_model_name": "FloatProgressModel",
            "_view_count": null,
            "_view_module": "@jupyter-widgets/controls",
            "_view_module_version": "1.5.0",
            "_view_name": "ProgressView",
            "bar_style": "success",
            "description": "",
            "description_tooltip": null,
            "layout": "IPY_MODEL_b702fd0610464a12b618fcfc8284410f",
            "max": 9,
            "min": 0,
            "orientation": "horizontal",
            "style": "IPY_MODEL_74557facc83f4550befff302c24f77c8",
            "value": 9
          }
        },
        "4781acda85554d00a75b33cbc407ac2a": {
          "model_module": "@jupyter-widgets/controls",
          "model_name": "HTMLModel",
          "model_module_version": "1.5.0",
          "state": {
            "_dom_classes": [],
            "_model_module": "@jupyter-widgets/controls",
            "_model_module_version": "1.5.0",
            "_model_name": "HTMLModel",
            "_view_count": null,
            "_view_module": "@jupyter-widgets/controls",
            "_view_module_version": "1.5.0",
            "_view_name": "HTMLView",
            "description": "",
            "description_tooltip": null,
            "layout": "IPY_MODEL_9ea40bd186b145d1b4da55e607947989",
            "placeholder": "​",
            "style": "IPY_MODEL_b1ef8f29f26e49c18d1da45126a404fc",
            "value": " 9/9 [00:04&lt;00:00,  2.28it/s]"
          }
        },
        "5c493eddbc4b475e8b949cd8975eba89": {
          "model_module": "@jupyter-widgets/base",
          "model_name": "LayoutModel",
          "model_module_version": "1.2.0",
          "state": {
            "_model_module": "@jupyter-widgets/base",
            "_model_module_version": "1.2.0",
            "_model_name": "LayoutModel",
            "_view_count": null,
            "_view_module": "@jupyter-widgets/base",
            "_view_module_version": "1.2.0",
            "_view_name": "LayoutView",
            "align_content": null,
            "align_items": null,
            "align_self": null,
            "border": null,
            "bottom": null,
            "display": null,
            "flex": null,
            "flex_flow": null,
            "grid_area": null,
            "grid_auto_columns": null,
            "grid_auto_flow": null,
            "grid_auto_rows": null,
            "grid_column": null,
            "grid_gap": null,
            "grid_row": null,
            "grid_template_areas": null,
            "grid_template_columns": null,
            "grid_template_rows": null,
            "height": null,
            "justify_content": null,
            "justify_items": null,
            "left": null,
            "margin": null,
            "max_height": null,
            "max_width": null,
            "min_height": null,
            "min_width": null,
            "object_fit": null,
            "object_position": null,
            "order": null,
            "overflow": null,
            "overflow_x": null,
            "overflow_y": null,
            "padding": null,
            "right": null,
            "top": null,
            "visibility": null,
            "width": null
          }
        },
        "156e71eaf63b469d8ab87f5d252caebc": {
          "model_module": "@jupyter-widgets/base",
          "model_name": "LayoutModel",
          "model_module_version": "1.2.0",
          "state": {
            "_model_module": "@jupyter-widgets/base",
            "_model_module_version": "1.2.0",
            "_model_name": "LayoutModel",
            "_view_count": null,
            "_view_module": "@jupyter-widgets/base",
            "_view_module_version": "1.2.0",
            "_view_name": "LayoutView",
            "align_content": null,
            "align_items": null,
            "align_self": null,
            "border": null,
            "bottom": null,
            "display": null,
            "flex": null,
            "flex_flow": null,
            "grid_area": null,
            "grid_auto_columns": null,
            "grid_auto_flow": null,
            "grid_auto_rows": null,
            "grid_column": null,
            "grid_gap": null,
            "grid_row": null,
            "grid_template_areas": null,
            "grid_template_columns": null,
            "grid_template_rows": null,
            "height": null,
            "justify_content": null,
            "justify_items": null,
            "left": null,
            "margin": null,
            "max_height": null,
            "max_width": null,
            "min_height": null,
            "min_width": null,
            "object_fit": null,
            "object_position": null,
            "order": null,
            "overflow": null,
            "overflow_x": null,
            "overflow_y": null,
            "padding": null,
            "right": null,
            "top": null,
            "visibility": null,
            "width": null
          }
        },
        "181c0972bb5649b8a2a17c966336029d": {
          "model_module": "@jupyter-widgets/controls",
          "model_name": "DescriptionStyleModel",
          "model_module_version": "1.5.0",
          "state": {
            "_model_module": "@jupyter-widgets/controls",
            "_model_module_version": "1.5.0",
            "_model_name": "DescriptionStyleModel",
            "_view_count": null,
            "_view_module": "@jupyter-widgets/base",
            "_view_module_version": "1.2.0",
            "_view_name": "StyleView",
            "description_width": ""
          }
        },
        "b702fd0610464a12b618fcfc8284410f": {
          "model_module": "@jupyter-widgets/base",
          "model_name": "LayoutModel",
          "model_module_version": "1.2.0",
          "state": {
            "_model_module": "@jupyter-widgets/base",
            "_model_module_version": "1.2.0",
            "_model_name": "LayoutModel",
            "_view_count": null,
            "_view_module": "@jupyter-widgets/base",
            "_view_module_version": "1.2.0",
            "_view_name": "LayoutView",
            "align_content": null,
            "align_items": null,
            "align_self": null,
            "border": null,
            "bottom": null,
            "display": null,
            "flex": null,
            "flex_flow": null,
            "grid_area": null,
            "grid_auto_columns": null,
            "grid_auto_flow": null,
            "grid_auto_rows": null,
            "grid_column": null,
            "grid_gap": null,
            "grid_row": null,
            "grid_template_areas": null,
            "grid_template_columns": null,
            "grid_template_rows": null,
            "height": null,
            "justify_content": null,
            "justify_items": null,
            "left": null,
            "margin": null,
            "max_height": null,
            "max_width": null,
            "min_height": null,
            "min_width": null,
            "object_fit": null,
            "object_position": null,
            "order": null,
            "overflow": null,
            "overflow_x": null,
            "overflow_y": null,
            "padding": null,
            "right": null,
            "top": null,
            "visibility": null,
            "width": null
          }
        },
        "74557facc83f4550befff302c24f77c8": {
          "model_module": "@jupyter-widgets/controls",
          "model_name": "ProgressStyleModel",
          "model_module_version": "1.5.0",
          "state": {
            "_model_module": "@jupyter-widgets/controls",
            "_model_module_version": "1.5.0",
            "_model_name": "ProgressStyleModel",
            "_view_count": null,
            "_view_module": "@jupyter-widgets/base",
            "_view_module_version": "1.2.0",
            "_view_name": "StyleView",
            "bar_color": null,
            "description_width": ""
          }
        },
        "9ea40bd186b145d1b4da55e607947989": {
          "model_module": "@jupyter-widgets/base",
          "model_name": "LayoutModel",
          "model_module_version": "1.2.0",
          "state": {
            "_model_module": "@jupyter-widgets/base",
            "_model_module_version": "1.2.0",
            "_model_name": "LayoutModel",
            "_view_count": null,
            "_view_module": "@jupyter-widgets/base",
            "_view_module_version": "1.2.0",
            "_view_name": "LayoutView",
            "align_content": null,
            "align_items": null,
            "align_self": null,
            "border": null,
            "bottom": null,
            "display": null,
            "flex": null,
            "flex_flow": null,
            "grid_area": null,
            "grid_auto_columns": null,
            "grid_auto_flow": null,
            "grid_auto_rows": null,
            "grid_column": null,
            "grid_gap": null,
            "grid_row": null,
            "grid_template_areas": null,
            "grid_template_columns": null,
            "grid_template_rows": null,
            "height": null,
            "justify_content": null,
            "justify_items": null,
            "left": null,
            "margin": null,
            "max_height": null,
            "max_width": null,
            "min_height": null,
            "min_width": null,
            "object_fit": null,
            "object_position": null,
            "order": null,
            "overflow": null,
            "overflow_x": null,
            "overflow_y": null,
            "padding": null,
            "right": null,
            "top": null,
            "visibility": null,
            "width": null
          }
        },
        "b1ef8f29f26e49c18d1da45126a404fc": {
          "model_module": "@jupyter-widgets/controls",
          "model_name": "DescriptionStyleModel",
          "model_module_version": "1.5.0",
          "state": {
            "_model_module": "@jupyter-widgets/controls",
            "_model_module_version": "1.5.0",
            "_model_name": "DescriptionStyleModel",
            "_view_count": null,
            "_view_module": "@jupyter-widgets/base",
            "_view_module_version": "1.2.0",
            "_view_name": "StyleView",
            "description_width": ""
          }
        },
        "eef3f3aad3d843d49c1c500c6db0cbf2": {
          "model_module": "@jupyter-widgets/controls",
          "model_name": "HBoxModel",
          "model_module_version": "1.5.0",
          "state": {
            "_dom_classes": [],
            "_model_module": "@jupyter-widgets/controls",
            "_model_module_version": "1.5.0",
            "_model_name": "HBoxModel",
            "_view_count": null,
            "_view_module": "@jupyter-widgets/controls",
            "_view_module_version": "1.5.0",
            "_view_name": "HBoxView",
            "box_style": "",
            "children": [
              "IPY_MODEL_b73b68c2d1784ae3b44cce682f0d0c59",
              "IPY_MODEL_d9a9b1128d774339b399dc28fc834d2e",
              "IPY_MODEL_cb592c9d5d5f4fc3af51868751e4b5ec"
            ],
            "layout": "IPY_MODEL_665833cb6fea4c3aa1e8d5c5057a9c65"
          }
        },
        "b73b68c2d1784ae3b44cce682f0d0c59": {
          "model_module": "@jupyter-widgets/controls",
          "model_name": "HTMLModel",
          "model_module_version": "1.5.0",
          "state": {
            "_dom_classes": [],
            "_model_module": "@jupyter-widgets/controls",
            "_model_module_version": "1.5.0",
            "_model_name": "HTMLModel",
            "_view_count": null,
            "_view_module": "@jupyter-widgets/controls",
            "_view_module_version": "1.5.0",
            "_view_name": "HTMLView",
            "description": "",
            "description_tooltip": null,
            "layout": "IPY_MODEL_2d0f73d0f11241cf8c94811d7c6ee6ec",
            "placeholder": "​",
            "style": "IPY_MODEL_22bc4d3d5deb4aeeaf8789d0970c59c9",
            "value": "Training loop: 100%"
          }
        },
        "d9a9b1128d774339b399dc28fc834d2e": {
          "model_module": "@jupyter-widgets/controls",
          "model_name": "FloatProgressModel",
          "model_module_version": "1.5.0",
          "state": {
            "_dom_classes": [],
            "_model_module": "@jupyter-widgets/controls",
            "_model_module_version": "1.5.0",
            "_model_name": "FloatProgressModel",
            "_view_count": null,
            "_view_module": "@jupyter-widgets/controls",
            "_view_module_version": "1.5.0",
            "_view_name": "ProgressView",
            "bar_style": "success",
            "description": "",
            "description_tooltip": null,
            "layout": "IPY_MODEL_8c3174db80544f7ca461bf2e4817e533",
            "max": 239,
            "min": 0,
            "orientation": "horizontal",
            "style": "IPY_MODEL_373da946725b493893af69830bbd447b",
            "value": 239
          }
        },
        "cb592c9d5d5f4fc3af51868751e4b5ec": {
          "model_module": "@jupyter-widgets/controls",
          "model_name": "HTMLModel",
          "model_module_version": "1.5.0",
          "state": {
            "_dom_classes": [],
            "_model_module": "@jupyter-widgets/controls",
            "_model_module_version": "1.5.0",
            "_model_name": "HTMLModel",
            "_view_count": null,
            "_view_module": "@jupyter-widgets/controls",
            "_view_module_version": "1.5.0",
            "_view_name": "HTMLView",
            "description": "",
            "description_tooltip": null,
            "layout": "IPY_MODEL_f04e202e49124fd0a46c7ce9089e36ba",
            "placeholder": "​",
            "style": "IPY_MODEL_65eb8b7fe13e481dad3e456cbc7f88b3",
            "value": " 239/239 [10:49&lt;00:00,  2.14s/it]"
          }
        },
        "665833cb6fea4c3aa1e8d5c5057a9c65": {
          "model_module": "@jupyter-widgets/base",
          "model_name": "LayoutModel",
          "model_module_version": "1.2.0",
          "state": {
            "_model_module": "@jupyter-widgets/base",
            "_model_module_version": "1.2.0",
            "_model_name": "LayoutModel",
            "_view_count": null,
            "_view_module": "@jupyter-widgets/base",
            "_view_module_version": "1.2.0",
            "_view_name": "LayoutView",
            "align_content": null,
            "align_items": null,
            "align_self": null,
            "border": null,
            "bottom": null,
            "display": null,
            "flex": null,
            "flex_flow": null,
            "grid_area": null,
            "grid_auto_columns": null,
            "grid_auto_flow": null,
            "grid_auto_rows": null,
            "grid_column": null,
            "grid_gap": null,
            "grid_row": null,
            "grid_template_areas": null,
            "grid_template_columns": null,
            "grid_template_rows": null,
            "height": null,
            "justify_content": null,
            "justify_items": null,
            "left": null,
            "margin": null,
            "max_height": null,
            "max_width": null,
            "min_height": null,
            "min_width": null,
            "object_fit": null,
            "object_position": null,
            "order": null,
            "overflow": null,
            "overflow_x": null,
            "overflow_y": null,
            "padding": null,
            "right": null,
            "top": null,
            "visibility": null,
            "width": null
          }
        },
        "2d0f73d0f11241cf8c94811d7c6ee6ec": {
          "model_module": "@jupyter-widgets/base",
          "model_name": "LayoutModel",
          "model_module_version": "1.2.0",
          "state": {
            "_model_module": "@jupyter-widgets/base",
            "_model_module_version": "1.2.0",
            "_model_name": "LayoutModel",
            "_view_count": null,
            "_view_module": "@jupyter-widgets/base",
            "_view_module_version": "1.2.0",
            "_view_name": "LayoutView",
            "align_content": null,
            "align_items": null,
            "align_self": null,
            "border": null,
            "bottom": null,
            "display": null,
            "flex": null,
            "flex_flow": null,
            "grid_area": null,
            "grid_auto_columns": null,
            "grid_auto_flow": null,
            "grid_auto_rows": null,
            "grid_column": null,
            "grid_gap": null,
            "grid_row": null,
            "grid_template_areas": null,
            "grid_template_columns": null,
            "grid_template_rows": null,
            "height": null,
            "justify_content": null,
            "justify_items": null,
            "left": null,
            "margin": null,
            "max_height": null,
            "max_width": null,
            "min_height": null,
            "min_width": null,
            "object_fit": null,
            "object_position": null,
            "order": null,
            "overflow": null,
            "overflow_x": null,
            "overflow_y": null,
            "padding": null,
            "right": null,
            "top": null,
            "visibility": null,
            "width": null
          }
        },
        "22bc4d3d5deb4aeeaf8789d0970c59c9": {
          "model_module": "@jupyter-widgets/controls",
          "model_name": "DescriptionStyleModel",
          "model_module_version": "1.5.0",
          "state": {
            "_model_module": "@jupyter-widgets/controls",
            "_model_module_version": "1.5.0",
            "_model_name": "DescriptionStyleModel",
            "_view_count": null,
            "_view_module": "@jupyter-widgets/base",
            "_view_module_version": "1.2.0",
            "_view_name": "StyleView",
            "description_width": ""
          }
        },
        "8c3174db80544f7ca461bf2e4817e533": {
          "model_module": "@jupyter-widgets/base",
          "model_name": "LayoutModel",
          "model_module_version": "1.2.0",
          "state": {
            "_model_module": "@jupyter-widgets/base",
            "_model_module_version": "1.2.0",
            "_model_name": "LayoutModel",
            "_view_count": null,
            "_view_module": "@jupyter-widgets/base",
            "_view_module_version": "1.2.0",
            "_view_name": "LayoutView",
            "align_content": null,
            "align_items": null,
            "align_self": null,
            "border": null,
            "bottom": null,
            "display": null,
            "flex": null,
            "flex_flow": null,
            "grid_area": null,
            "grid_auto_columns": null,
            "grid_auto_flow": null,
            "grid_auto_rows": null,
            "grid_column": null,
            "grid_gap": null,
            "grid_row": null,
            "grid_template_areas": null,
            "grid_template_columns": null,
            "grid_template_rows": null,
            "height": null,
            "justify_content": null,
            "justify_items": null,
            "left": null,
            "margin": null,
            "max_height": null,
            "max_width": null,
            "min_height": null,
            "min_width": null,
            "object_fit": null,
            "object_position": null,
            "order": null,
            "overflow": null,
            "overflow_x": null,
            "overflow_y": null,
            "padding": null,
            "right": null,
            "top": null,
            "visibility": null,
            "width": null
          }
        },
        "373da946725b493893af69830bbd447b": {
          "model_module": "@jupyter-widgets/controls",
          "model_name": "ProgressStyleModel",
          "model_module_version": "1.5.0",
          "state": {
            "_model_module": "@jupyter-widgets/controls",
            "_model_module_version": "1.5.0",
            "_model_name": "ProgressStyleModel",
            "_view_count": null,
            "_view_module": "@jupyter-widgets/base",
            "_view_module_version": "1.2.0",
            "_view_name": "StyleView",
            "bar_color": null,
            "description_width": ""
          }
        },
        "f04e202e49124fd0a46c7ce9089e36ba": {
          "model_module": "@jupyter-widgets/base",
          "model_name": "LayoutModel",
          "model_module_version": "1.2.0",
          "state": {
            "_model_module": "@jupyter-widgets/base",
            "_model_module_version": "1.2.0",
            "_model_name": "LayoutModel",
            "_view_count": null,
            "_view_module": "@jupyter-widgets/base",
            "_view_module_version": "1.2.0",
            "_view_name": "LayoutView",
            "align_content": null,
            "align_items": null,
            "align_self": null,
            "border": null,
            "bottom": null,
            "display": null,
            "flex": null,
            "flex_flow": null,
            "grid_area": null,
            "grid_auto_columns": null,
            "grid_auto_flow": null,
            "grid_auto_rows": null,
            "grid_column": null,
            "grid_gap": null,
            "grid_row": null,
            "grid_template_areas": null,
            "grid_template_columns": null,
            "grid_template_rows": null,
            "height": null,
            "justify_content": null,
            "justify_items": null,
            "left": null,
            "margin": null,
            "max_height": null,
            "max_width": null,
            "min_height": null,
            "min_width": null,
            "object_fit": null,
            "object_position": null,
            "order": null,
            "overflow": null,
            "overflow_x": null,
            "overflow_y": null,
            "padding": null,
            "right": null,
            "top": null,
            "visibility": null,
            "width": null
          }
        },
        "65eb8b7fe13e481dad3e456cbc7f88b3": {
          "model_module": "@jupyter-widgets/controls",
          "model_name": "DescriptionStyleModel",
          "model_module_version": "1.5.0",
          "state": {
            "_model_module": "@jupyter-widgets/controls",
            "_model_module_version": "1.5.0",
            "_model_name": "DescriptionStyleModel",
            "_view_count": null,
            "_view_module": "@jupyter-widgets/base",
            "_view_module_version": "1.2.0",
            "_view_name": "StyleView",
            "description_width": ""
          }
        },
        "2fd65e6cf5ab4b6dbe99b500405c0612": {
          "model_module": "@jupyter-widgets/controls",
          "model_name": "HBoxModel",
          "model_module_version": "1.5.0",
          "state": {
            "_dom_classes": [],
            "_model_module": "@jupyter-widgets/controls",
            "_model_module_version": "1.5.0",
            "_model_name": "HBoxModel",
            "_view_count": null,
            "_view_module": "@jupyter-widgets/controls",
            "_view_module_version": "1.5.0",
            "_view_name": "HBoxView",
            "box_style": "",
            "children": [
              "IPY_MODEL_9a77ad7962934316b8f8f0ff4fa99b61",
              "IPY_MODEL_6da9a18d8f8a4e9580e90bbb4d444f76",
              "IPY_MODEL_ee54d91c381b429d80757919bffc76dc"
            ],
            "layout": "IPY_MODEL_c0f8ca90dea64d82ac177e28588daefe"
          }
        },
        "9a77ad7962934316b8f8f0ff4fa99b61": {
          "model_module": "@jupyter-widgets/controls",
          "model_name": "HTMLModel",
          "model_module_version": "1.5.0",
          "state": {
            "_dom_classes": [],
            "_model_module": "@jupyter-widgets/controls",
            "_model_module_version": "1.5.0",
            "_model_name": "HTMLModel",
            "_view_count": null,
            "_view_module": "@jupyter-widgets/controls",
            "_view_module_version": "1.5.0",
            "_view_name": "HTMLView",
            "description": "",
            "description_tooltip": null,
            "layout": "IPY_MODEL_1ed5adf02db64671947de81d9cbe0f00",
            "placeholder": "​",
            "style": "IPY_MODEL_da6ade6c75aa456a8c9145c8bf7fcf77",
            "value": "Validation loop: 100%"
          }
        },
        "6da9a18d8f8a4e9580e90bbb4d444f76": {
          "model_module": "@jupyter-widgets/controls",
          "model_name": "FloatProgressModel",
          "model_module_version": "1.5.0",
          "state": {
            "_dom_classes": [],
            "_model_module": "@jupyter-widgets/controls",
            "_model_module_version": "1.5.0",
            "_model_name": "FloatProgressModel",
            "_view_count": null,
            "_view_module": "@jupyter-widgets/controls",
            "_view_module_version": "1.5.0",
            "_view_name": "ProgressView",
            "bar_style": "success",
            "description": "",
            "description_tooltip": null,
            "layout": "IPY_MODEL_48ba7fa49f774d048b9d75fa5646919c",
            "max": 9,
            "min": 0,
            "orientation": "horizontal",
            "style": "IPY_MODEL_113111e13937432bbc12a6166441e38b",
            "value": 9
          }
        },
        "ee54d91c381b429d80757919bffc76dc": {
          "model_module": "@jupyter-widgets/controls",
          "model_name": "HTMLModel",
          "model_module_version": "1.5.0",
          "state": {
            "_dom_classes": [],
            "_model_module": "@jupyter-widgets/controls",
            "_model_module_version": "1.5.0",
            "_model_name": "HTMLModel",
            "_view_count": null,
            "_view_module": "@jupyter-widgets/controls",
            "_view_module_version": "1.5.0",
            "_view_name": "HTMLView",
            "description": "",
            "description_tooltip": null,
            "layout": "IPY_MODEL_6dc9d2244f344e43a4c7de8ed9c33a8d",
            "placeholder": "​",
            "style": "IPY_MODEL_5fc0e74e328b49669da01238370c3f9a",
            "value": " 9/9 [00:05&lt;00:00,  1.95it/s]"
          }
        },
        "c0f8ca90dea64d82ac177e28588daefe": {
          "model_module": "@jupyter-widgets/base",
          "model_name": "LayoutModel",
          "model_module_version": "1.2.0",
          "state": {
            "_model_module": "@jupyter-widgets/base",
            "_model_module_version": "1.2.0",
            "_model_name": "LayoutModel",
            "_view_count": null,
            "_view_module": "@jupyter-widgets/base",
            "_view_module_version": "1.2.0",
            "_view_name": "LayoutView",
            "align_content": null,
            "align_items": null,
            "align_self": null,
            "border": null,
            "bottom": null,
            "display": null,
            "flex": null,
            "flex_flow": null,
            "grid_area": null,
            "grid_auto_columns": null,
            "grid_auto_flow": null,
            "grid_auto_rows": null,
            "grid_column": null,
            "grid_gap": null,
            "grid_row": null,
            "grid_template_areas": null,
            "grid_template_columns": null,
            "grid_template_rows": null,
            "height": null,
            "justify_content": null,
            "justify_items": null,
            "left": null,
            "margin": null,
            "max_height": null,
            "max_width": null,
            "min_height": null,
            "min_width": null,
            "object_fit": null,
            "object_position": null,
            "order": null,
            "overflow": null,
            "overflow_x": null,
            "overflow_y": null,
            "padding": null,
            "right": null,
            "top": null,
            "visibility": null,
            "width": null
          }
        },
        "1ed5adf02db64671947de81d9cbe0f00": {
          "model_module": "@jupyter-widgets/base",
          "model_name": "LayoutModel",
          "model_module_version": "1.2.0",
          "state": {
            "_model_module": "@jupyter-widgets/base",
            "_model_module_version": "1.2.0",
            "_model_name": "LayoutModel",
            "_view_count": null,
            "_view_module": "@jupyter-widgets/base",
            "_view_module_version": "1.2.0",
            "_view_name": "LayoutView",
            "align_content": null,
            "align_items": null,
            "align_self": null,
            "border": null,
            "bottom": null,
            "display": null,
            "flex": null,
            "flex_flow": null,
            "grid_area": null,
            "grid_auto_columns": null,
            "grid_auto_flow": null,
            "grid_auto_rows": null,
            "grid_column": null,
            "grid_gap": null,
            "grid_row": null,
            "grid_template_areas": null,
            "grid_template_columns": null,
            "grid_template_rows": null,
            "height": null,
            "justify_content": null,
            "justify_items": null,
            "left": null,
            "margin": null,
            "max_height": null,
            "max_width": null,
            "min_height": null,
            "min_width": null,
            "object_fit": null,
            "object_position": null,
            "order": null,
            "overflow": null,
            "overflow_x": null,
            "overflow_y": null,
            "padding": null,
            "right": null,
            "top": null,
            "visibility": null,
            "width": null
          }
        },
        "da6ade6c75aa456a8c9145c8bf7fcf77": {
          "model_module": "@jupyter-widgets/controls",
          "model_name": "DescriptionStyleModel",
          "model_module_version": "1.5.0",
          "state": {
            "_model_module": "@jupyter-widgets/controls",
            "_model_module_version": "1.5.0",
            "_model_name": "DescriptionStyleModel",
            "_view_count": null,
            "_view_module": "@jupyter-widgets/base",
            "_view_module_version": "1.2.0",
            "_view_name": "StyleView",
            "description_width": ""
          }
        },
        "48ba7fa49f774d048b9d75fa5646919c": {
          "model_module": "@jupyter-widgets/base",
          "model_name": "LayoutModel",
          "model_module_version": "1.2.0",
          "state": {
            "_model_module": "@jupyter-widgets/base",
            "_model_module_version": "1.2.0",
            "_model_name": "LayoutModel",
            "_view_count": null,
            "_view_module": "@jupyter-widgets/base",
            "_view_module_version": "1.2.0",
            "_view_name": "LayoutView",
            "align_content": null,
            "align_items": null,
            "align_self": null,
            "border": null,
            "bottom": null,
            "display": null,
            "flex": null,
            "flex_flow": null,
            "grid_area": null,
            "grid_auto_columns": null,
            "grid_auto_flow": null,
            "grid_auto_rows": null,
            "grid_column": null,
            "grid_gap": null,
            "grid_row": null,
            "grid_template_areas": null,
            "grid_template_columns": null,
            "grid_template_rows": null,
            "height": null,
            "justify_content": null,
            "justify_items": null,
            "left": null,
            "margin": null,
            "max_height": null,
            "max_width": null,
            "min_height": null,
            "min_width": null,
            "object_fit": null,
            "object_position": null,
            "order": null,
            "overflow": null,
            "overflow_x": null,
            "overflow_y": null,
            "padding": null,
            "right": null,
            "top": null,
            "visibility": null,
            "width": null
          }
        },
        "113111e13937432bbc12a6166441e38b": {
          "model_module": "@jupyter-widgets/controls",
          "model_name": "ProgressStyleModel",
          "model_module_version": "1.5.0",
          "state": {
            "_model_module": "@jupyter-widgets/controls",
            "_model_module_version": "1.5.0",
            "_model_name": "ProgressStyleModel",
            "_view_count": null,
            "_view_module": "@jupyter-widgets/base",
            "_view_module_version": "1.2.0",
            "_view_name": "StyleView",
            "bar_color": null,
            "description_width": ""
          }
        },
        "6dc9d2244f344e43a4c7de8ed9c33a8d": {
          "model_module": "@jupyter-widgets/base",
          "model_name": "LayoutModel",
          "model_module_version": "1.2.0",
          "state": {
            "_model_module": "@jupyter-widgets/base",
            "_model_module_version": "1.2.0",
            "_model_name": "LayoutModel",
            "_view_count": null,
            "_view_module": "@jupyter-widgets/base",
            "_view_module_version": "1.2.0",
            "_view_name": "LayoutView",
            "align_content": null,
            "align_items": null,
            "align_self": null,
            "border": null,
            "bottom": null,
            "display": null,
            "flex": null,
            "flex_flow": null,
            "grid_area": null,
            "grid_auto_columns": null,
            "grid_auto_flow": null,
            "grid_auto_rows": null,
            "grid_column": null,
            "grid_gap": null,
            "grid_row": null,
            "grid_template_areas": null,
            "grid_template_columns": null,
            "grid_template_rows": null,
            "height": null,
            "justify_content": null,
            "justify_items": null,
            "left": null,
            "margin": null,
            "max_height": null,
            "max_width": null,
            "min_height": null,
            "min_width": null,
            "object_fit": null,
            "object_position": null,
            "order": null,
            "overflow": null,
            "overflow_x": null,
            "overflow_y": null,
            "padding": null,
            "right": null,
            "top": null,
            "visibility": null,
            "width": null
          }
        },
        "5fc0e74e328b49669da01238370c3f9a": {
          "model_module": "@jupyter-widgets/controls",
          "model_name": "DescriptionStyleModel",
          "model_module_version": "1.5.0",
          "state": {
            "_model_module": "@jupyter-widgets/controls",
            "_model_module_version": "1.5.0",
            "_model_name": "DescriptionStyleModel",
            "_view_count": null,
            "_view_module": "@jupyter-widgets/base",
            "_view_module_version": "1.2.0",
            "_view_name": "StyleView",
            "description_width": ""
          }
        }
      }
    }
  },
  "cells": [
    {
      "cell_type": "markdown",
      "metadata": {
        "id": "view-in-github",
        "colab_type": "text"
      },
      "source": [
        "<a href=\"https://colab.research.google.com/github/PranavBK1/Cartoon-Conversion/blob/main/Pytorch.ipynb\" target=\"_parent\"><img src=\"https://colab.research.google.com/assets/colab-badge.svg\" alt=\"Open In Colab\"/></a>"
      ]
    },
    {
      "cell_type": "code",
      "execution_count": 11,
      "metadata": {
        "colab": {
          "base_uri": "https://localhost:8080/"
        },
        "id": "_yJvdwZxfU4F",
        "outputId": "ae8c5438-1a42-441b-d326-a0a3ad0076e6"
      },
      "outputs": [
        {
          "output_type": "stream",
          "name": "stdout",
          "text": [
            "System Version: 3.11.11 (main, Dec  4 2024, 08:55:07) [GCC 11.4.0]\n",
            "PyTorch version 2.5.1+cu124\n",
            "Torchvision version 0.20.1+cu124\n",
            "Numpy version 1.26.4\n",
            "Pandas version 2.2.2\n"
          ]
        }
      ],
      "source": [
        "import torch\n",
        "import torch.nn as nn\n",
        "import torch.optim as optim\n",
        "from torch.utils.data import Dataset, DataLoader\n",
        "import torchvision\n",
        "import torchvision.transforms as transforms\n",
        "from torchvision.datasets import ImageFolder\n",
        "import timm\n",
        "\n",
        "import matplotlib.pyplot as plt # For data viz\n",
        "import pandas as pd\n",
        "import numpy as np\n",
        "import sys\n",
        "from tqdm.notebook import tqdm\n",
        "\n",
        "print('System Version:', sys.version)\n",
        "print('PyTorch version', torch.__version__)\n",
        "print('Torchvision version', torchvision.__version__)\n",
        "print('Numpy version', np.__version__)\n",
        "print('Pandas version', pd.__version__)"
      ]
    },
    {
      "cell_type": "markdown",
      "source": [
        "Step 1. Pytorch Dataset (and Dataloader)\n"
      ],
      "metadata": {
        "id": "xxBcrTMVf1wt"
      }
    },
    {
      "cell_type": "code",
      "source": [
        "class PlayingCardDataset(Dataset):\n",
        "    def __init__(self, data_dir, transform=None):\n",
        "        self.data = ImageFolder(data_dir, transform=transform)\n",
        "\n",
        "    def __len__(self):\n",
        "        return len(self.data)\n",
        "\n",
        "    def __getitem__(self, idx):\n",
        "        return self.data[idx]\n",
        "\n",
        "    @property\n",
        "    def classes(self):\n",
        "        return self.data.classes\n"
      ],
      "metadata": {
        "id": "mWXMk7rFf4O_"
      },
      "execution_count": 12,
      "outputs": []
    },
    {
      "cell_type": "code",
      "source": [
        "import kagglehub\n",
        "\n",
        "# Download latest version\n",
        "path = kagglehub.dataset_download(\"gpiosenka/cards-image-datasetclassification\")\n",
        "\n",
        "print(\"Path to dataset files:\", path)"
      ],
      "metadata": {
        "colab": {
          "base_uri": "https://localhost:8080/"
        },
        "id": "YpObHTimf_sB",
        "outputId": "cdf748d9-85b7-4d3d-b683-a0f47b172e48"
      },
      "execution_count": 18,
      "outputs": [
        {
          "output_type": "stream",
          "name": "stdout",
          "text": [
            "Downloading from https://www.kaggle.com/api/v1/datasets/download/gpiosenka/cards-image-datasetclassification?dataset_version_number=2...\n"
          ]
        },
        {
          "output_type": "stream",
          "name": "stderr",
          "text": [
            "100%|██████████| 385M/385M [00:09<00:00, 42.9MB/s]"
          ]
        },
        {
          "output_type": "stream",
          "name": "stdout",
          "text": [
            "Extracting files...\n"
          ]
        },
        {
          "output_type": "stream",
          "name": "stderr",
          "text": [
            "\n"
          ]
        },
        {
          "output_type": "stream",
          "name": "stdout",
          "text": [
            "Path to dataset files: /root/.cache/kagglehub/datasets/gpiosenka/cards-image-datasetclassification/versions/2\n"
          ]
        }
      ]
    },
    {
      "cell_type": "code",
      "source": [
        "dataset = PlayingCardDataset(\n",
        "    data_dir= r'/root/.cache/kagglehub/datasets/gpiosenka/cards-image-datasetclassification/versions/2'\n",
        "\n",
        ")"
      ],
      "metadata": {
        "id": "fnIBF-HVpIY3"
      },
      "execution_count": 21,
      "outputs": []
    },
    {
      "cell_type": "code",
      "source": [
        "len(dataset)"
      ],
      "metadata": {
        "colab": {
          "base_uri": "https://localhost:8080/"
        },
        "id": "HkVYIwUdpi5Q",
        "outputId": "133a76d0-79cc-4f15-9585-d7dc47e88c9a"
      },
      "execution_count": 22,
      "outputs": [
        {
          "output_type": "execute_result",
          "data": {
            "text/plain": [
              "8154"
            ]
          },
          "metadata": {},
          "execution_count": 22
        }
      ]
    },
    {
      "cell_type": "code",
      "source": [
        "image, label = dataset[6000]\n",
        "print(label)\n",
        "image"
      ],
      "metadata": {
        "colab": {
          "base_uri": "https://localhost:8080/",
          "height": 258
        },
        "id": "UJfsscMyprV3",
        "outputId": "22ff26c2-6398-4a3e-ff10-0484eb9ee2c4"
      },
      "execution_count": 23,
      "outputs": [
        {
          "output_type": "stream",
          "name": "stdout",
          "text": [
            "1\n"
          ]
        },
        {
          "output_type": "execute_result",
          "data": {
            "text/plain": [
              "<PIL.Image.Image image mode=RGB size=224x224>"
            ],
            "image/png": "[encoded data removed]",
            "image/jpeg": "[encoded data removed]"
          },
          "metadata": {},
          "execution_count": 23
        }
      ]
    },
    {
      "cell_type": "code",
      "source": [
        "# Get a dictionary associating target values with folder names\n",
        "data_dir= r'/root/.cache/kagglehub/datasets/gpiosenka/cards-image-datasetclassification/versions/2'\n",
        "target_to_class = {v: k for k, v in ImageFolder(data_dir).class_to_idx.items()}\n",
        "print(target_to_class)"
      ],
      "metadata": {
        "colab": {
          "base_uri": "https://localhost:8080/"
        },
        "id": "Xrog2yrQpw3j",
        "outputId": "351ad219-6d44-4577-f85d-67ed96b9daf9"
      },
      "execution_count": 24,
      "outputs": [
        {
          "output_type": "stream",
          "name": "stdout",
          "text": [
            "{0: 'test', 1: 'train', 2: 'valid'}\n"
          ]
        }
      ]
    },
    {
      "cell_type": "code",
      "source": [
        "transform = transforms.Compose([\n",
        "    transforms.Resize((128, 128)),\n",
        "    transforms.ToTensor(),\n",
        "])\n",
        "data_dir= r'/root/.cache/kagglehub/datasets/gpiosenka/cards-image-datasetclassification/versions/2'\n",
        "dataset = PlayingCardDataset(data_dir, transform)"
      ],
      "metadata": {
        "id": "Sw91mVzhp-oQ"
      },
      "execution_count": 26,
      "outputs": []
    },
    {
      "cell_type": "code",
      "source": [
        "image, label = dataset[100]\n",
        "image.shape"
      ],
      "metadata": {
        "colab": {
          "base_uri": "https://localhost:8080/"
        },
        "id": "FbfxHRP_qHo9",
        "outputId": "8c997578-5b9e-4233-eb96-20efb4feda58"
      },
      "execution_count": 27,
      "outputs": [
        {
          "output_type": "execute_result",
          "data": {
            "text/plain": [
              "torch.Size([3, 128, 128])"
            ]
          },
          "metadata": {},
          "execution_count": 27
        }
      ]
    },
    {
      "cell_type": "code",
      "source": [
        "# iterate over dataset\n",
        "for image, label in dataset:\n",
        "    break"
      ],
      "metadata": {
        "id": "3LfBWE1nqMnw"
      },
      "execution_count": 28,
      "outputs": []
    },
    {
      "cell_type": "markdown",
      "source": [
        "Dataloaders\n",
        "Batching our dataset\n",
        "It's faster to train the model in batches instead of one at a time"
      ],
      "metadata": {
        "id": "BwFbYclpqZbd"
      }
    },
    {
      "cell_type": "code",
      "source": [
        "dataloader = DataLoader(dataset, batch_size=32, shuffle=True)"
      ],
      "metadata": {
        "id": "TDEZALWNqe8R"
      },
      "execution_count": 30,
      "outputs": []
    },
    {
      "cell_type": "code",
      "source": [
        "for images, labels in dataloader:\n",
        "    break"
      ],
      "metadata": {
        "id": "G62MRDQaqsCo"
      },
      "execution_count": 31,
      "outputs": []
    },
    {
      "cell_type": "code",
      "source": [
        "images.shape, labels.shape"
      ],
      "metadata": {
        "colab": {
          "base_uri": "https://localhost:8080/"
        },
        "id": "behQSFLIqzWI",
        "outputId": "a080fd2d-f69c-4e55-8897-59281fa92655"
      },
      "execution_count": 32,
      "outputs": [
        {
          "output_type": "execute_result",
          "data": {
            "text/plain": [
              "(torch.Size([32, 3, 128, 128]), torch.Size([32]))"
            ]
          },
          "metadata": {},
          "execution_count": 32
        }
      ]
    },
    {
      "cell_type": "markdown",
      "source": [
        "Step 2. Pytorch Model"
      ],
      "metadata": {
        "id": "lbQkPnojrEBx"
      }
    },
    {
      "cell_type": "code",
      "source": [
        "class SimpleCardClassifer(nn.Module):\n",
        "    def __init__(self, num_classes=53):\n",
        "        super(SimpleCardClassifer, self).__init__()\n",
        "        # Where we define all the parts of the model\n",
        "        self.base_model = timm.create_model('efficientnet_b0', pretrained=True)\n",
        "        self.features = nn.Sequential(*list(self.base_model.children())[:-1])\n",
        "\n",
        "        enet_out_size = 1280\n",
        "        # Make a classifier\n",
        "        self.classifier = nn.Sequential(\n",
        "            nn.Flatten(),\n",
        "            nn.Linear(enet_out_size, num_classes)\n",
        "        )\n",
        "\n",
        "    def forward(self, x):\n",
        "        # Connect these parts and return the output\n",
        "        x = self.features(x)\n",
        "        output = self.classifier(x)\n",
        "        return output"
      ],
      "metadata": {
        "id": "vUFfPfwdrE-O"
      },
      "execution_count": 33,
      "outputs": []
    },
    {
      "cell_type": "code",
      "source": [
        "model = SimpleCardClassifer(num_classes=53)\n",
        "print(str(model)[:500])\n"
      ],
      "metadata": {
        "colab": {
          "base_uri": "https://localhost:8080/",
          "height": 381,
          "referenced_widgets": [
            "231a1321dc58478ebb56ce394580a1c1",
            "463648137f9e4b078065af5bc0d224dc",
            "f76710da33e64935b98625686cce68fe",
            "7787bb41d67547c8b68c895b91b3cff0",
            "7ddb44c5a0ae4f0eafe1fb46d71f4fa3",
            "c2be02d80e894cb6a868b2eb3927e69d",
            "80726b3dc8e74d4e81b1468453cdb56b",
            "76ffe0b7dac0494b879d7f2dca282993",
            "4256a6bd140d430b9ef9324ded0d9976",
            "458f5dba4f834bb687a39f14c2b0241a",
            "270fd5594d9f473d91a32a32c4c5c7f9"
          ]
        },
        "id": "jDUUSsAJrZjk",
        "outputId": "ddb98522-32c9-4509-8d91-2779e28c0bae"
      },
      "execution_count": 34,
      "outputs": [
        {
          "output_type": "stream",
          "name": "stderr",
          "text": [
            "/usr/local/lib/python3.11/dist-packages/huggingface_hub/utils/_auth.py:94: UserWarning: \n",
            "The secret `HF_TOKEN` does not exist in your Colab secrets.\n",
            "To authenticate with the Hugging Face Hub, create a token in your settings tab (https://huggingface.co/settings/tokens), set it as secret in your Google Colab and restart your session.\n",
            "You will be able to reuse this secret in all of your notebooks.\n",
            "Please note that authentication is recommended but still optional to access public models or datasets.\n",
            "  warnings.warn(\n"
          ]
        },
        {
          "output_type": "display_data",
          "data": {
            "text/plain": [
              "model.safetensors:   0%|          | 0.00/21.4M [00:00<?, ?B/s]"
            ],
            "application/vnd.jupyter.widget-view+json": {
              "version_major": 2,
              "version_minor": 0,
              "model_id": "231a1321dc58478ebb56ce394580a1c1"
            }
          },
          "metadata": {}
        },
        {
          "output_type": "stream",
          "name": "stdout",
          "text": [
            "SimpleCardClassifer(\n",
            "  (base_model): EfficientNet(\n",
            "    (conv_stem): Conv2d(3, 32, kernel_size=(3, 3), stride=(2, 2), padding=(1, 1), bias=False)\n",
            "    (bn1): BatchNormAct2d(\n",
            "      32, eps=1e-05, momentum=0.1, affine=True, track_running_stats=True\n",
            "      (drop): Identity()\n",
            "      (act): SiLU(inplace=True)\n",
            "    )\n",
            "    (blocks): Sequential(\n",
            "      (0): Sequential(\n",
            "        (0): DepthwiseSeparableConv(\n",
            "          (conv_dw): Conv2d(32, 32, kernel_size=(3, 3), stride=(1, 1), padding=(1, 1), groups=32, bias=Fal\n"
          ]
        }
      ]
    },
    {
      "cell_type": "code",
      "source": [
        "example_out = model(images)\n",
        "example_out.shape # [batch_size, num_classes]"
      ],
      "metadata": {
        "colab": {
          "base_uri": "https://localhost:8080/"
        },
        "id": "C3B9yH3nrpkt",
        "outputId": "d7b2511a-89d9-42a3-970c-3d42074b429a"
      },
      "execution_count": 35,
      "outputs": [
        {
          "output_type": "execute_result",
          "data": {
            "text/plain": [
              "torch.Size([32, 53])"
            ]
          },
          "metadata": {},
          "execution_count": 35
        }
      ]
    },
    {
      "cell_type": "markdown",
      "source": [],
      "metadata": {
        "id": "aTWI4-Q9qVRI"
      }
    },
    {
      "cell_type": "markdown",
      "source": [
        "Step 3. The training loop"
      ],
      "metadata": {
        "id": "ly5wRYUrr_Op"
      }
    },
    {
      "cell_type": "code",
      "source": [
        "# Loss function\n",
        "criterion = nn.CrossEntropyLoss()\n",
        "# Optimizer\n",
        "optimizer = optim.Adam(model.parameters(), lr=0.001)"
      ],
      "metadata": {
        "id": "vHyXM1L5sAU8"
      },
      "execution_count": 36,
      "outputs": []
    },
    {
      "cell_type": "code",
      "source": [
        "criterion(example_out, labels)\n",
        "print(example_out.shape, labels.shape)"
      ],
      "metadata": {
        "colab": {
          "base_uri": "https://localhost:8080/"
        },
        "id": "Acko0QVDsFxU",
        "outputId": "9f0ecc82-c067-4c96-e5c6-872b6c4e6085"
      },
      "execution_count": 37,
      "outputs": [
        {
          "output_type": "stream",
          "name": "stdout",
          "text": [
            "torch.Size([32, 53]) torch.Size([32])\n"
          ]
        }
      ]
    },
    {
      "cell_type": "markdown",
      "source": [
        "Setup Datasets"
      ],
      "metadata": {
        "id": "GsyV0zi6sQka"
      }
    },
    {
      "cell_type": "code",
      "source": [
        "from google.colab import files\n",
        "\n",
        "# Upload kaggle.json\n",
        "files.upload()\n"
      ],
      "metadata": {
        "colab": {
          "base_uri": "https://localhost:8080/",
          "height": 90
        },
        "id": "pQ2_Tka3vMcS",
        "outputId": "0f40f672-5faf-4ab9-ea34-9bc4f27741d2"
      },
      "execution_count": 39,
      "outputs": [
        {
          "output_type": "display_data",
          "data": {
            "text/plain": [
              "<IPython.core.display.HTML object>"
            ],
            "text/html": [
              "\n",
              "     <input type=\"file\" id=\"files-9a8f5a4b-9687-45a0-a910-fbe639d1c882\" name=\"files[]\" multiple disabled\n",
              "        style=\"border:none\" />\n",
              "     <output id=\"result-9a8f5a4b-9687-45a0-a910-fbe639d1c882\">\n",
              "      Upload widget is only available when the cell has been executed in the\n",
              "      current browser session. Please rerun this cell to enable.\n",
              "      </output>\n",
              "      <script>// Copyright 2017 Google LLC\n",
              "//\n",
              "// Licensed under the Apache License, Version 2.0 (the \"License\");\n",
              "// you may not use this file except in compliance with the License.\n",
              "// You may obtain a copy of the License at\n",
              "//\n",
              "//      http://www.apache.org/licenses/LICENSE-2.0\n",
              "//\n",
              "// Unless required by applicable law or agreed to in writing, software\n",
              "// distributed under the License is distributed on an \"AS IS\" BASIS,\n",
              "// WITHOUT WARRANTIES OR CONDITIONS OF ANY KIND, either express or implied.\n",
              "// See the License for the specific language governing permissions and\n",
              "// limitations under the License.\n",
              "\n",
              "/**\n",
              " * @fileoverview Helpers for google.colab Python module.\n",
              " */\n",
              "(function(scope) {\n",
              "function span(text, styleAttributes = {}) {\n",
              "  const element = document.createElement('span');\n",
              "  element.textContent = text;\n",
              "  for (const key of Object.keys(styleAttributes)) {\n",
              "    element.style[key] = styleAttributes[key];\n",
              "  }\n",
              "  return element;\n",
              "}\n",
              "\n",
              "// Max number of bytes which will be uploaded at a time.\n",
              "const MAX_PAYLOAD_SIZE = 100 * 1024;\n",
              "\n",
              "function _uploadFiles(inputId, outputId) {\n",
              "  const steps = uploadFilesStep(inputId, outputId);\n",
              "  const outputElement = document.getElementById(outputId);\n",
              "  // Cache steps on the outputElement to make it available for the next call\n",
              "  // to uploadFilesContinue from Python.\n",
              "  outputElement.steps = steps;\n",
              "\n",
              "  return _uploadFilesContinue(outputId);\n",
              "}\n",
              "\n",
              "// This is roughly an async generator (not supported in the browser yet),\n",
              "// where there are multiple asynchronous steps and the Python side is going\n",
              "// to poll for completion of each step.\n",
              "// This uses a Promise to block the python side on completion of each step,\n",
              "// then passes the result of the previous step as the input to the next step.\n",
              "function _uploadFilesContinue(outputId) {\n",
              "  const outputElement = document.getElementById(outputId);\n",
              "  const steps = outputElement.steps;\n",
              "\n",
              "  const next = steps.next(outputElement.lastPromiseValue);\n",
              "  return Promise.resolve(next.value.promise).then((value) => {\n",
              "    // Cache the last promise value to make it available to the next\n",
              "    // step of the generator.\n",
              "    outputElement.lastPromiseValue = value;\n",
              "    return next.value.response;\n",
              "  });\n",
              "}\n",
              "\n",
              "/**\n",
              " * Generator function which is called between each async step of the upload\n",
              " * process.\n",
              " * @param {string} inputId Element ID of the input file picker element.\n",
              " * @param {string} outputId Element ID of the output display.\n",
              " * @return {!Iterable<!Object>} Iterable of next steps.\n",
              " */\n",
              "function* uploadFilesStep(inputId, outputId) {\n",
              "  const inputElement = document.getElementById(inputId);\n",
              "  inputElement.disabled = false;\n",
              "\n",
              "  const outputElement = document.getElementById(outputId);\n",
              "  outputElement.innerHTML = '';\n",
              "\n",
              "  const pickedPromise = new Promise((resolve) => {\n",
              "    inputElement.addEventListener('change', (e) => {\n",
              "      resolve(e.target.files);\n",
              "    });\n",
              "  });\n",
              "\n",
              "  const cancel = document.createElement('button');\n",
              "  inputElement.parentElement.appendChild(cancel);\n",
              "  cancel.textContent = 'Cancel upload';\n",
              "  const cancelPromise = new Promise((resolve) => {\n",
              "    cancel.onclick = () => {\n",
              "      resolve(null);\n",
              "    };\n",
              "  });\n",
              "\n",
              "  // Wait for the user to pick the files.\n",
              "  const files = yield {\n",
              "    promise: Promise.race([pickedPromise, cancelPromise]),\n",
              "    response: {\n",
              "      action: 'starting',\n",
              "    }\n",
              "  };\n",
              "\n",
              "  cancel.remove();\n",
              "\n",
              "  // Disable the input element since further picks are not allowed.\n",
              "  inputElement.disabled = true;\n",
              "\n",
              "  if (!files) {\n",
              "    return {\n",
              "      response: {\n",
              "        action: 'complete',\n",
              "      }\n",
              "    };\n",
              "  }\n",
              "\n",
              "  for (const file of files) {\n",
              "    const li = document.createElement('li');\n",
              "    li.append(span(file.name, {fontWeight: 'bold'}));\n",
              "    li.append(span(\n",
              "        `(${file.type || 'n/a'}) - ${file.size} bytes, ` +\n",
              "        `last modified: ${\n",
              "            file.lastModifiedDate ? file.lastModifiedDate.toLocaleDateString() :\n",
              "                                    'n/a'} - `));\n",
              "    const percent = span('0% done');\n",
              "    li.appendChild(percent);\n",
              "\n",
              "    outputElement.appendChild(li);\n",
              "\n",
              "    const fileDataPromise = new Promise((resolve) => {\n",
              "      const reader = new FileReader();\n",
              "      reader.onload = (e) => {\n",
              "        resolve(e.target.result);\n",
              "      };\n",
              "      reader.readAsArrayBuffer(file);\n",
              "    });\n",
              "    // Wait for the data to be ready.\n",
              "    let fileData = yield {\n",
              "      promise: fileDataPromise,\n",
              "      response: {\n",
              "        action: 'continue',\n",
              "      }\n",
              "    };\n",
              "\n",
              "    // Use a chunked sending to avoid message size limits. See b/62115660.\n",
              "    let position = 0;\n",
              "    do {\n",
              "      const length = Math.min(fileData.byteLength - position, MAX_PAYLOAD_SIZE);\n",
              "      const chunk = new Uint8Array(fileData, position, length);\n",
              "      position += length;\n",
              "\n",
              "      const base64 = btoa(String.fromCharCode.apply(null, chunk));\n",
              "      yield {\n",
              "        response: {\n",
              "          action: 'append',\n",
              "          file: file.name,\n",
              "          data: base64,\n",
              "        },\n",
              "      };\n",
              "\n",
              "      let percentDone = fileData.byteLength === 0 ?\n",
              "          100 :\n",
              "          Math.round((position / fileData.byteLength) * 100);\n",
              "      percent.textContent = `${percentDone}% done`;\n",
              "\n",
              "    } while (position < fileData.byteLength);\n",
              "  }\n",
              "\n",
              "  // All done.\n",
              "  yield {\n",
              "    response: {\n",
              "      action: 'complete',\n",
              "    }\n",
              "  };\n",
              "}\n",
              "\n",
              "scope.google = scope.google || {};\n",
              "scope.google.colab = scope.google.colab || {};\n",
              "scope.google.colab._files = {\n",
              "  _uploadFiles,\n",
              "  _uploadFilesContinue,\n",
              "};\n",
              "})(self);\n",
              "</script> "
            ]
          },
          "metadata": {}
        },
        {
          "output_type": "stream",
          "name": "stdout",
          "text": [
            "Saving kaggle.json to kaggle.json\n"
          ]
        },
        {
          "output_type": "execute_result",
          "data": {
            "text/plain": [
              "{'kaggle.json': b'{\"username\":\"pranavbk0\",\"key\":\"ff56bc886eb87fcea3013596980f0b5e\"}'}"
            ]
          },
          "metadata": {},
          "execution_count": 39
        }
      ]
    },
    {
      "cell_type": "code",
      "source": [
        "import os\n",
        "\n",
        "# Create .kaggle folder and move kaggle.json\n",
        "!mkdir -p ~/.kaggle\n",
        "!mv kaggle.json ~/.kaggle/\n",
        "!chmod 600 ~/.kaggle/kaggle.json  # Set permissions\n",
        "\n",
        "print(\"✅ Kaggle API is set up!\")\n"
      ],
      "metadata": {
        "colab": {
          "base_uri": "https://localhost:8080/"
        },
        "id": "7EJj1dKWvV_d",
        "outputId": "c1795c07-a5f9-4efa-eea1-21d5786337b7"
      },
      "execution_count": 40,
      "outputs": [
        {
          "output_type": "stream",
          "name": "stdout",
          "text": [
            "✅ Kaggle API is set up!\n"
          ]
        }
      ]
    },
    {
      "cell_type": "code",
      "source": [
        "# Download dataset from Kaggle and unzip it\n",
        "!kaggle datasets download -d gpiosenka/cards-image-datasetclassification --unzip -p /content/\n",
        "print(\"✅ Dataset downloaded and extracted!\")\n"
      ],
      "metadata": {
        "colab": {
          "base_uri": "https://localhost:8080/"
        },
        "id": "kEsrd2oNvb4x",
        "outputId": "df07d4c5-ba24-4223-f4ed-10bdf975f83e"
      },
      "execution_count": 41,
      "outputs": [
        {
          "output_type": "stream",
          "name": "stdout",
          "text": [
            "Dataset URL: https://www.kaggle.com/datasets/gpiosenka/cards-image-datasetclassification\n",
            "License(s): CC0-1.0\n",
            "Downloading cards-image-datasetclassification.zip to /content\n",
            " 98% 379M/385M [00:05<00:00, 99.2MB/s]\n",
            "100% 385M/385M [00:05<00:00, 73.2MB/s]\n",
            "✅ Dataset downloaded and extracted!\n"
          ]
        }
      ]
    },
    {
      "cell_type": "code",
      "source": [
        "import shutil\n",
        "\n",
        "# Define paths\n",
        "source_path = \"/content/train\"  # Adjust this if needed\n",
        "destination_path = \"/content/training_folder\"\n",
        "\n",
        "# Move dataset to training folder\n",
        "if os.path.exists(source_path):\n",
        "    shutil.move(source_path, destination_path)\n",
        "    print(\"✅ Dataset moved to:\", destination_path)\n",
        "else:\n",
        "    print(\"❌ Source path not found. Check dataset structure.\")\n"
      ],
      "metadata": {
        "colab": {
          "base_uri": "https://localhost:8080/"
        },
        "id": "UXb7y8gOvmGv",
        "outputId": "160da64d-a12c-4a55-e1f8-2ed405fb7a07"
      },
      "execution_count": 42,
      "outputs": [
        {
          "output_type": "stream",
          "name": "stdout",
          "text": [
            "✅ Dataset moved to: /content/training_folder\n"
          ]
        }
      ]
    },
    {
      "cell_type": "code",
      "source": [
        "import os\n",
        "\n",
        "# Check dataset files\n",
        "print(\"📂 Training Folder Content:\", os.listdir(\"/content/training_folder\"))\n",
        "\n",
        "# Now, use this dataset in your code\n",
        "train_folder = r\"/content/training_folder\"\n",
        "print(\"✅ Dataset loaded successfully!\")"
      ],
      "metadata": {
        "colab": {
          "base_uri": "https://localhost:8080/"
        },
        "id": "6u3MV0utvqEK",
        "outputId": "a47f804d-df48-4c2e-8ec7-cb99d1dca90f"
      },
      "execution_count": 46,
      "outputs": [
        {
          "output_type": "stream",
          "name": "stdout",
          "text": [
            "📂 Training Folder Content: ['ten of hearts', 'queen of diamonds', 'three of hearts', 'seven of diamonds', 'five of diamonds', 'seven of clubs', 'six of spades', 'ten of clubs', 'four of clubs', 'two of spades', 'eight of clubs', 'two of diamonds', 'seven of spades', 'joker', 'eight of hearts', 'ten of spades', 'six of diamonds', 'four of spades', 'six of clubs', 'eight of spades', 'three of diamonds', 'ace of clubs', 'eight of diamonds', 'five of spades', 'nine of clubs', 'jack of spades', 'three of spades', 'four of hearts', 'jack of clubs', 'five of clubs', 'six of hearts', 'jack of hearts', 'ten of diamonds', 'two of hearts', 'ace of spades', 'king of clubs', 'queen of clubs', 'king of spades', 'two of clubs', 'four of diamonds', 'jack of diamonds', 'ace of diamonds', 'ace of hearts', 'seven of hearts', 'queen of spades', 'three of clubs', 'nine of diamonds', 'queen of hearts', 'nine of hearts', 'five of hearts', 'king of hearts', 'king of diamonds', 'nine of spades']\n",
            "✅ Dataset loaded successfully!\n"
          ]
        }
      ]
    },
    {
      "cell_type": "code",
      "source": [
        "import shutil\n",
        "\n",
        "# Define source and destination paths\n",
        "source_path = \"/content/valid\"  # This is where Kaggle extracted the files\n",
        "destination_path = \"/content/valid_folder\"\n",
        "\n",
        "# Move dataset to the valid folder\n",
        "if os.path.exists(source_path):\n",
        "    shutil.move(source_path, destination_path)\n",
        "    print(\"✅ Validation dataset moved to:\", destination_path)\n",
        "else:\n",
        "    print(\"❌ Source path not found. Check dataset structure.\")\n"
      ],
      "metadata": {
        "colab": {
          "base_uri": "https://localhost:8080/"
        },
        "id": "hdSZw4jWxFGW",
        "outputId": "1dd4e528-5b62-48b2-a24b-e9bb3bd14a81"
      },
      "execution_count": 47,
      "outputs": [
        {
          "output_type": "stream",
          "name": "stdout",
          "text": [
            "✅ Validation dataset moved to: /content/valid_folder\n"
          ]
        }
      ]
    },
    {
      "cell_type": "code",
      "source": [
        "import os\n",
        "\n",
        "# Check dataset files\n",
        "print(\"📂 Validation Folder Content:\", os.listdir(\"/content/valid_folder\"))\n",
        "\n",
        "# Now, use this dataset in your code\n",
        "valid_folder = \"/content/valid_folder\"\n",
        "print(\"✅ Validation dataset loaded successfully!\")\n"
      ],
      "metadata": {
        "colab": {
          "base_uri": "https://localhost:8080/"
        },
        "id": "-5UCZ7G0yEoq",
        "outputId": "820f9c20-971c-4ed9-ee65-c803bbbeba6a"
      },
      "execution_count": 48,
      "outputs": [
        {
          "output_type": "stream",
          "name": "stdout",
          "text": [
            "📂 Validation Folder Content: ['ten of hearts', 'queen of diamonds', 'three of hearts', 'seven of diamonds', 'five of diamonds', 'seven of clubs', 'six of spades', 'ten of clubs', 'four of clubs', 'two of spades', 'eight of clubs', 'two of diamonds', 'seven of spades', 'joker', 'eight of hearts', 'ten of spades', 'six of diamonds', 'four of spades', 'six of clubs', 'eight of spades', 'three of diamonds', 'ace of clubs', 'eight of diamonds', 'five of spades', 'nine of clubs', 'jack of spades', 'three of spades', 'four of hearts', 'jack of clubs', 'five of clubs', 'six of hearts', 'jack of hearts', 'ten of diamonds', 'two of hearts', 'ace of spades', 'king of clubs', 'queen of clubs', 'king of spades', 'two of clubs', 'four of diamonds', 'jack of diamonds', 'ace of diamonds', 'ace of hearts', 'seven of hearts', 'queen of spades', 'three of clubs', 'nine of diamonds', 'queen of hearts', 'nine of hearts', 'five of hearts', 'king of hearts', 'king of diamonds', 'nine of spades']\n",
            "✅ Validation dataset loaded successfully!\n"
          ]
        }
      ]
    },
    {
      "cell_type": "code",
      "source": [
        "import shutil\n",
        "\n",
        "# Define source and destination paths\n",
        "source_path = \"/content/valid\"  # This is where Kaggle extracted the files\n",
        "destination_path = \"/content/valid_folder\"\n",
        "\n",
        "# Move dataset to the valid folder\n",
        "if os.path.exists(source_path):\n",
        "    shutil.move(source_path, destination_path)\n",
        "    print(\"✅ Validation dataset moved to:\", destination_path)\n",
        "else:\n",
        "    print(\"❌ Source path not found. Check dataset structure.\")\n"
      ],
      "metadata": {
        "id": "QYJ1jHbJyNiT"
      },
      "execution_count": null,
      "outputs": []
    },
    {
      "cell_type": "code",
      "source": [
        "import shutil\n",
        "\n",
        "# Define source and destination paths\n",
        "source_path = \"/content/test\"  # This is where Kaggle extracted the files\n",
        "destination_path = \"/content/test_folder\"\n",
        "\n",
        "# Move dataset to the test folder\n",
        "if os.path.exists(source_path):\n",
        "    shutil.move(source_path, destination_path)\n",
        "    print(\"✅ Test dataset moved to:\", destination_path)\n",
        "else:\n",
        "    print(\"❌ Source path not found. Check dataset structure.\")\n"
      ],
      "metadata": {
        "colab": {
          "base_uri": "https://localhost:8080/"
        },
        "id": "8DTqLTD6yqSL",
        "outputId": "fddeb0ca-9611-44ee-c40c-8d1954dd8ae2"
      },
      "execution_count": 49,
      "outputs": [
        {
          "output_type": "stream",
          "name": "stdout",
          "text": [
            "✅ Test dataset moved to: /content/test_folder\n"
          ]
        }
      ]
    },
    {
      "cell_type": "code",
      "source": [
        "import os\n",
        "\n",
        "# Check dataset files\n",
        "print(\"📂 Test Folder Content:\", os.listdir(\"/content/test_folder\"))\n",
        "\n",
        "# Now, use this dataset in your code\n",
        "test_folder = \"/content/test_folder\"\n",
        "print(\"✅ Test dataset loaded successfully!\")\n"
      ],
      "metadata": {
        "colab": {
          "base_uri": "https://localhost:8080/"
        },
        "id": "Fhsz7M8LysZ6",
        "outputId": "505f0696-dbd0-4e1f-b6ee-a9b489f6235b"
      },
      "execution_count": 91,
      "outputs": [
        {
          "output_type": "stream",
          "name": "stdout",
          "text": [
            "📂 Test Folder Content: ['ten of hearts', 'queen of diamonds', 'three of hearts', 'seven of diamonds', 'five of diamonds', 'seven of clubs', 'six of spades', 'ten of clubs', 'four of clubs', 'two of spades', 'eight of clubs', 'two of diamonds', 'seven of spades', 'joker', 'eight of hearts', 'ten of spades', 'six of diamonds', 'four of spades', 'six of clubs', 'eight of spades', 'three of diamonds', 'ace of clubs', 'eight of diamonds', 'five of spades', 'nine of clubs', 'jack of spades', 'three of spades', 'four of hearts', 'jack of clubs', 'five of clubs', 'six of hearts', 'jack of hearts', 'ten of diamonds', 'two of hearts', 'ace of spades', 'king of clubs', 'queen of clubs', 'king of spades', 'two of clubs', 'four of diamonds', 'jack of diamonds', 'ace of diamonds', 'ace of hearts', 'seven of hearts', 'queen of spades', 'three of clubs', 'nine of diamonds', 'queen of hearts', 'nine of hearts', 'five of hearts', 'king of hearts', 'king of diamonds', 'nine of spades']\n",
            "✅ Test dataset loaded successfully!\n"
          ]
        }
      ]
    },
    {
      "cell_type": "code",
      "source": [
        "transform = transforms.Compose([\n",
        "    transforms.Resize((128, 128)),\n",
        "    transforms.ToTensor(),\n",
        "])\n",
        "\n",
        "\n",
        "train_dataset = PlayingCardDataset(train_folder, transform=transform)\n",
        "val_dataset = PlayingCardDataset(valid_folder, transform=transform)\n",
        "test_dataset = PlayingCardDataset(test_folder, transform=transform)\n",
        "\n",
        "train_loader = DataLoader(train_dataset, batch_size=32, shuffle=True)\n",
        "val_loader = DataLoader(val_dataset, batch_size=32, shuffle=False)\n",
        "test_loader = DataLoader(val_dataset, batch_size=32, shuffle=False)"
      ],
      "metadata": {
        "id": "zJARFe9ayzuc"
      },
      "execution_count": 51,
      "outputs": []
    },
    {
      "cell_type": "markdown",
      "source": [
        "Simple Training Loop\n"
      ],
      "metadata": {
        "id": "4aNaaw1szGR1"
      }
    },
    {
      "cell_type": "code",
      "source": [
        "# Simple training loop\n",
        "num_epochs = 5\n",
        "train_losses, val_losses = [], []\n",
        "\n",
        "device = torch.device(\"cuda:0\" if torch.cuda.is_available() else \"cpu\")\n",
        "\n",
        "model = SimpleCardClassifer(num_classes=53)\n",
        "model.to(device)\n",
        "\n",
        "criterion = nn.CrossEntropyLoss()\n",
        "optimizer = optim.Adam(model.parameters(), lr=0.001)\n",
        "\n",
        "for epoch in range(num_epochs):\n",
        "    # Training phase\n",
        "    model.train()\n",
        "    running_loss = 0.0\n",
        "    for images, labels in tqdm(train_loader, desc='Training loop'):\n",
        "        # Move inputs and labels to the device\n",
        "        images, labels = images.to(device), labels.to(device)\n",
        "\n",
        "        optimizer.zero_grad()\n",
        "        outputs = model(images)\n",
        "        loss = criterion(outputs, labels)\n",
        "        loss.backward()\n",
        "        optimizer.step()\n",
        "        running_loss += loss.item() * labels.size(0)\n",
        "    train_loss = running_loss / len(train_loader.dataset)\n",
        "    train_losses.append(train_loss)\n",
        "    # Validation phase\n",
        "    model.eval()\n",
        "    running_loss = 0.0\n",
        "    with torch.no_grad():\n",
        "        for images, labels in tqdm(val_loader, desc='Validation loop'):\n",
        "            # Move inputs and labels to the device\n",
        "            images, labels = images.to(device), labels.to(device)\n",
        "\n",
        "            outputs = model(images)\n",
        "            loss = criterion(outputs, labels)\n",
        "            running_loss += loss.item() * labels.size(0)\n",
        "    val_loss = running_loss / len(val_loader.dataset)\n",
        "    val_losses.append(val_loss)\n",
        "    print(f\"Epoch {epoch+1}/{num_epochs} - Train loss: {train_loss}, Validation loss: {val_loss}\")"
      ],
      "metadata": {
        "colab": {
          "base_uri": "https://localhost:8080/",
          "height": 394,
          "referenced_widgets": [
            "9b1e905796fc4f82b9ebb53bf195f12e",
            "f182e3ebc2f74f8b96360e891dc9f8f6",
            "8f9117e6fa7f41c7a19f3e86eb7f500a",
            "0d4f54d0d54d4777a250695bcc91a725",
            "886edcedc711439fa4e77b6b90ecd641",
            "75bfda3a504f4c15a5fb4505cf13bc61",
            "9353195a770147d59b0459dea9f2d4a3",
            "f25924470ea14f8aa8588a8699f6a87b",
            "b5f0ac75196048aab26d6c6cd52bb287",
            "2fc32e5080ee45fe839e812fd12c7afd",
            "5fd7dcb4afa6404daab0b2e38da27051",
            "27e577f484e24e20a68771782bfd7bd9",
            "c0a6f39451ce4b41a30fe91bf0516afb",
            "2643e8e063e0449c9be065d6be42f647",
            "48716284c70e4504bbb6584d8aa05093",
            "65cf8bda2f924a9bb8bb900ef41e56b8",
            "5c2f8b3e5c2e4f61831bc596500733a1",
            "56f9f64ecb7d40cc9c68df4e931da4e3",
            "90505f8c08ca4300b548547888e3c2b1",
            "21ec3d2725d44daf9e87190224dd06a8",
            "8ce5beb51e0a4297b2230010d27987f5",
            "a84ac98563814a6393c7f0b089eba0e7",
            "79ca7a55c31c452c8d97f8906ae0bbe9",
            "b8f73d164bbc487cbb95f8e9c7a502ee",
            "073a60ea78e84007a7f89c5205af5617",
            "71bcad35ccdd4ba6a174db834b2a3ebe",
            "0d1ff190a2e944e6852ef0b2a4e7c3bc",
            "2816eaf0856048f380a7b42d0d08c781",
            "086f6706872c4cd98b7273c9a4d433a8",
            "c7edf13a7814493c8b6cb0bdaafb2fe4",
            "811ba9fd4fa543c49ef7a4edca4e3979",
            "05bd1f90520a46e3b70f79e57b650487",
            "54ad8675ee18415aa88a1336e5810be2",
            "3d130c20f5d04cd096a03d589c8bc642",
            "7ac9b108374e43139e94f7a400af7318",
            "33cd5f8b009b4b89a0b628829c60a92d",
            "ef9d068be40e405fb4883f0e436d0788",
            "78005ae3c4a94ac5a4c6d7c076808c97",
            "ac825b58ba254c53aacb09734c97bcb7",
            "bb8b8bf164a64ec7bd17364d44c9a295",
            "9124f1c58b2e4267a6be3b45e0d1344e",
            "37cd25a1055349728b24867ad8bf7a84",
            "66d766dc0fdf46dba420487b9a467cec",
            "0962e48a49794ea68b15299c615d0285",
            "82a984bf0b7e441e9003af7116adb980",
            "01ac073a2711461ea7309c1ff9ef5b76",
            "aac90b670844428bb327fca32114280d",
            "31630a2f9e6347d0bf7c8bfe94b1f490",
            "9b8dbf72c50d4a8f86fd8ae31a67925d",
            "569795a78ff0409bb7f8dfc9f55f209d",
            "5f64dbf9fca0454b80294853ece45bd1",
            "b99201bbdbdc45819904f68b5932ea9f",
            "2c6ebb59410b4d39aca3fdfc3379ae4d",
            "2a922c053d2445a59ec44027c9c32b61",
            "eb2172f8eb504d40baf4f79629b2940b",
            "05469eafa75e4f36bbd6ad24021fbc69",
            "fa324470ca95407cae14bd03e10b2ab6",
            "9026cbd081134b0eabcd965fa544b124",
            "2ff9763ac7924c7bb9a7940008485409",
            "a2d661a45e66421bb82b0498408e7098",
            "4781acda85554d00a75b33cbc407ac2a",
            "5c493eddbc4b475e8b949cd8975eba89",
            "156e71eaf63b469d8ab87f5d252caebc",
            "181c0972bb5649b8a2a17c966336029d",
            "b702fd0610464a12b618fcfc8284410f",
            "74557facc83f4550befff302c24f77c8",
            "9ea40bd186b145d1b4da55e607947989",
            "b1ef8f29f26e49c18d1da45126a404fc",
            "eef3f3aad3d843d49c1c500c6db0cbf2",
            "b73b68c2d1784ae3b44cce682f0d0c59",
            "d9a9b1128d774339b399dc28fc834d2e",
            "cb592c9d5d5f4fc3af51868751e4b5ec",
            "665833cb6fea4c3aa1e8d5c5057a9c65",
            "2d0f73d0f11241cf8c94811d7c6ee6ec",
            "22bc4d3d5deb4aeeaf8789d0970c59c9",
            "8c3174db80544f7ca461bf2e4817e533",
            "373da946725b493893af69830bbd447b",
            "f04e202e49124fd0a46c7ce9089e36ba",
            "65eb8b7fe13e481dad3e456cbc7f88b3",
            "2fd65e6cf5ab4b6dbe99b500405c0612",
            "9a77ad7962934316b8f8f0ff4fa99b61",
            "6da9a18d8f8a4e9580e90bbb4d444f76",
            "ee54d91c381b429d80757919bffc76dc",
            "c0f8ca90dea64d82ac177e28588daefe",
            "1ed5adf02db64671947de81d9cbe0f00",
            "da6ade6c75aa456a8c9145c8bf7fcf77",
            "48ba7fa49f774d048b9d75fa5646919c",
            "113111e13937432bbc12a6166441e38b",
            "6dc9d2244f344e43a4c7de8ed9c33a8d",
            "5fc0e74e328b49669da01238370c3f9a"
          ]
        },
        "id": "-f08hFR1zKgD",
        "outputId": "2cdae71b-0a44-4a32-bc7b-6c717e97c9f4"
      },
      "execution_count": 52,
      "outputs": [
        {
          "data": {
            "application/vnd.jupyter.widget-view+json": {
              "model_id": "9b1e905796fc4f82b9ebb53bf195f12e",
              "version_major": 2,
              "version_minor": 0
            },
            "text/plain": [
              "Training loop:   0%|          | 0/239 [00:00<?, ?it/s]"
            ]
          },
          "metadata": {},
          "output_type": "display_data"
        },
        {
          "data": {
            "application/vnd.jupyter.widget-view+json": {
              "model_id": "27e577f484e24e20a68771782bfd7bd9",
              "version_major": 2,
              "version_minor": 0
            },
            "text/plain": [
              "Validation loop:   0%|          | 0/9 [00:00<?, ?it/s]"
            ]
          },
          "metadata": {},
          "output_type": "display_data"
        },
        {
          "metadata": {
            "tags": null
          },
          "name": "stdout",
          "output_type": "stream",
          "text": [
            "Epoch 1/5 - Train loss: 1.5262010269500277, Validation loss: 0.3362879213297142\n"
          ]
        },
        {
          "data": {
            "application/vnd.jupyter.widget-view+json": {
              "model_id": "79ca7a55c31c452c8d97f8906ae0bbe9",
              "version_major": 2,
              "version_minor": 0
            },
            "text/plain": [
              "Training loop:   0%|          | 0/239 [00:00<?, ?it/s]"
            ]
          },
          "metadata": {},
          "output_type": "display_data"
        },
        {
          "data": {
            "application/vnd.jupyter.widget-view+json": {
              "model_id": "3d130c20f5d04cd096a03d589c8bc642",
              "version_major": 2,
              "version_minor": 0
            },
            "text/plain": [
              "Validation loop:   0%|          | 0/9 [00:00<?, ?it/s]"
            ]
          },
          "metadata": {},
          "output_type": "display_data"
        },
        {
          "metadata": {
            "tags": null
          },
          "name": "stdout",
          "output_type": "stream",
          "text": [
            "Epoch 2/5 - Train loss: 0.5304550181405867, Validation loss: 0.2524044891573348\n"
          ]
        },
        {
          "data": {
            "application/vnd.jupyter.widget-view+json": {
              "model_id": "82a984bf0b7e441e9003af7116adb980",
              "version_major": 2,
              "version_minor": 0
            },
            "text/plain": [
              "Training loop:   0%|          | 0/239 [00:00<?, ?it/s]"
            ]
          },
          "metadata": {},
          "output_type": "display_data"
        },
        {
          "data": {
            "application/vnd.jupyter.widget-view+json": {
              "model_id": "05469eafa75e4f36bbd6ad24021fbc69",
              "version_major": 2,
              "version_minor": 0
            },
            "text/plain": [
              "Validation loop:   0%|          | 0/9 [00:00<?, ?it/s]"
            ]
          },
          "metadata": {},
          "output_type": "display_data"
        },
        {
          "metadata": {
            "tags": null
          },
          "name": "stdout",
          "output_type": "stream",
          "text": [
            "Epoch 3/5 - Train loss: 0.31710242465185345, Validation loss: 0.20561742265269442\n"
          ]
        },
        {
          "data": {
            "application/vnd.jupyter.widget-view+json": {
              "model_id": "fa324470ca95407cae14bd03e10b2ab6",
              "version_major": 2,
              "version_minor": 0
            },
            "text/plain": [
              "Training loop:   0%|          | 0/239 [00:00<?, ?it/s]"
            ]
          },
          "metadata": {},
          "output_type": "display_data"
        },
        {
          "output_type": "display_data",
          "data": {
            "text/plain": [
              "Validation loop:   0%|          | 0/9 [00:00<?, ?it/s]"
            ],
            "application/vnd.jupyter.widget-view+json": {
              "version_major": 2,
              "version_minor": 0,
              "model_id": "9026cbd081134b0eabcd965fa544b124"
            }
          },
          "metadata": {}
        },
        {
          "output_type": "stream",
          "name": "stdout",
          "text": [
            "Epoch 4/5 - Train loss: 0.25456013741579536, Validation loss: 0.2101376829282293\n"
          ]
        },
        {
          "output_type": "display_data",
          "data": {
            "text/plain": [
              "Training loop:   0%|          | 0/239 [00:00<?, ?it/s]"
            ],
            "application/vnd.jupyter.widget-view+json": {
              "version_major": 2,
              "version_minor": 0,
              "model_id": "eef3f3aad3d843d49c1c500c6db0cbf2"
            }
          },
          "metadata": {}
        },
        {
          "output_type": "display_data",
          "data": {
            "text/plain": [
              "Validation loop:   0%|          | 0/9 [00:00<?, ?it/s]"
            ],
            "application/vnd.jupyter.widget-view+json": {
              "version_major": 2,
              "version_minor": 0,
              "model_id": "2fd65e6cf5ab4b6dbe99b500405c0612"
            }
          },
          "metadata": {}
        },
        {
          "output_type": "stream",
          "name": "stdout",
          "text": [
            "Epoch 5/5 - Train loss: 0.1682486753414335, Validation loss: 0.18943516898829982\n"
          ]
        }
      ]
    },
    {
      "cell_type": "markdown",
      "source": [
        "Visualize Losses"
      ],
      "metadata": {
        "id": "f1Yi4-uB9bH_"
      }
    },
    {
      "cell_type": "code",
      "source": [
        "plt.plot(train_losses, label='Training loss')\n",
        "plt.plot(val_losses, label='Validation loss')\n",
        "plt.legend()\n",
        "plt.title(\"Loss over epochs\")\n",
        "plt.show()"
      ],
      "metadata": {
        "colab": {
          "base_uri": "https://localhost:8080/",
          "height": 452
        },
        "id": "s5-3Nh2j9ggf",
        "outputId": "e0d3bccc-a1e1-4e2f-a5c1-4b0b5a3e4827"
      },
      "execution_count": 53,
      "outputs": [
        {
          "output_type": "display_data",
          "data": {
            "text/plain": [
              "<Figure size 640x480 with 1 Axes>"
            ],
            "image/png": "[encoded data removed]"
          },
          "metadata": {}
        }
      ]
    },
    {
      "cell_type": "markdown",
      "source": [
        "Bonus: Evaluating the Results"
      ],
      "metadata": {
        "id": "ZQpW9Ky-Aejk"
      }
    },
    {
      "cell_type": "code",
      "source": [
        "import torch\n",
        "import torchvision.transforms as transforms\n",
        "from PIL import Image\n",
        "import matplotlib.pyplot as plt\n",
        "import numpy as np\n",
        "\n",
        "# Load and preprocess the image\n",
        "def preprocess_image(image_path, transform):\n",
        "    image = Image.open(image_path).convert(\"RGB\")\n",
        "    return image, transform(image).unsqueeze(0)\n",
        "\n",
        "# Predict using the model\n",
        "def predict(model, image_tensor, device):\n",
        "    model.eval()\n",
        "    with torch.no_grad():\n",
        "        image_tensor = image_tensor.to(device)\n",
        "        outputs = model(image_tensor)\n",
        "        probabilities = torch.nn.functional.softmax(outputs, dim=1)\n",
        "    return probabilities.cpu().numpy().flatten()\n",
        "# visualisation\n",
        "def visualize_predictions(original_image, probabilities, class_names):\n",
        "    fig, axarr = plt.subplots(1, 2, figsize=(14, 7))\n",
        "\n",
        "    # Display image\n",
        "    axarr[0].imshow(original_image)\n",
        "    axarr[0].axis(\"off\")\n",
        "\n",
        "    # Display predictions\n",
        "    axarr[1].barh(class_names, probabilities)\n",
        "    axarr[1].set_xlabel(\"Probability\")\n",
        "    axarr[1].set_title(\"Class Predictions\")\n",
        "    axarr[1].set_xlim(0, 1)\n",
        "\n",
        "    plt.tight_layout()\n",
        "    plt.show()\n",
        "# Example usage\n",
        "test_image = r'WhatsApp Image 2025-03-12 at 16.40.50_aa016276.jpg'\n",
        "transform = transforms.Compose([\n",
        "    transforms.Resize((128, 128)),\n",
        "    transforms.ToTensor()])"
      ],
      "metadata": {
        "id": "7DPAhN3jAfzU"
      },
      "execution_count": 86,
      "outputs": []
    },
    {
      "cell_type": "code",
      "source": [
        "from PIL import Image\n",
        "import torchvision.transforms as transforms\n",
        "\n",
        "# Load image and ensure it's in RGB format\n",
        "image_path = r'WhatsApp Image 2025-03-12 at 16.40.50_aa016276.jpg'\n",
        "image = Image.open(image_path).convert(\"RGB\")  # Convert to RGB to remove alpha channel\n",
        "\n",
        "# Apply transformations\n",
        "transform = transforms.Compose([\n",
        "    transforms.Resize((128, 128)),  # Resize to match model input\n",
        "    transforms.ToTensor(),          # Convert to tensor\n",
        "])\n",
        "\n",
        "image_tensor = transform(image).unsqueeze(0)  # Add batch dimension\n",
        "\n",
        "print(\"✅ Image preprocessed successfully:\", image_tensor.shape)\n"
      ],
      "metadata": {
        "colab": {
          "base_uri": "https://localhost:8080/"
        },
        "id": "AEeeEskdFJ_k",
        "outputId": "09ffed77-d0be-4943-bd46-9e129140e561"
      },
      "execution_count": 88,
      "outputs": [
        {
          "output_type": "stream",
          "name": "stdout",
          "text": [
            "✅ Image preprocessed successfully: torch.Size([1, 3, 128, 128])\n"
          ]
        }
      ]
    },
    {
      "cell_type": "code",
      "source": [
        "print(\"Total test images:\", len(test_images))\n",
        "print(\"First 5 test images:\", test_images[:5])  # Print first 5 images\n"
      ],
      "metadata": {
        "colab": {
          "base_uri": "https://localhost:8080/"
        },
        "id": "qT7yyNl3Nn4g",
        "outputId": "2fb56ff7-069f-4993-88b2-5dedf4567127"
      },
      "execution_count": 98,
      "outputs": [
        {
          "output_type": "stream",
          "name": "stdout",
          "text": [
            "Total test images: 53\n",
            "First 5 test images: ['/content/test_folder/ten of hearts', '/content/test_folder/queen of diamonds', '/content/test_folder/three of hearts', '/content/test_folder/seven of diamonds', '/content/test_folder/five of diamonds']\n"
          ]
        }
      ]
    },
    {
      "cell_type": "code",
      "source": [
        "num_samples = min(10, len(test_images))  # Choose the smaller value\n",
        "test_examples = np.random.choice(test_images, num_samples, replace=False)  # Ensure valid sampling\n"
      ],
      "metadata": {
        "id": "6bpK6yyzPd7b"
      },
      "execution_count": 99,
      "outputs": []
    },
    {
      "cell_type": "code",
      "source": [
        "from glob import glob\n",
        "import numpy as np\n",
        "\n",
        "# Get all image files\n",
        "test_images = glob('/content/test_folder/*/*.jpg')  # Adjust for your file format\n",
        "\n",
        "# Debugging: Print the first few file paths\n",
        "print(\"🔍 Test images found:\", test_images[:5])  # Print first 5 images to check\n",
        "\n",
        "if not test_images:  # Check if images were found\n",
        "    print(\"❌ No images found in test folder! Check directory structure.\")\n",
        "else:\n",
        "    print(\"✅ Found\", len(test_images), \"test images.\")\n",
        "\n",
        "# Now safely select images\n",
        "num_samples = min(10, len(test_images))  # Ensure valid sampling\n",
        "\n",
        "if num_samples == 0:\n",
        "    raise ValueError(\"❌ No valid images found for testing!\")\n",
        "\n",
        "test_examples = np.random.choice(test_images, num_samples, replace=False)\n",
        "\n",
        "for example in test_examples:\n",
        "    print(\"📷 Processing:\", example)  # Debugging: Print image being processed\n",
        "\n",
        "    original_image, image_tensor = preprocess_image(example, transform)\n",
        "\n",
        "    print(\"🖼 Image tensor shape:\", image_tensor.shape)  # Debug tensor shape\n",
        "\n",
        "    probabilities = predict(model, image_tensor, device)\n",
        "\n",
        "    class_names = dataset.classes\n",
        "    print(\"📊 Predicted probabilities:\", probabilities)  # Debugging\n",
        "\n",
        "\n",
        "\n",
        "\n"
      ],
      "metadata": {
        "colab": {
          "base_uri": "https://localhost:8080/"
        },
        "id": "iCS4gb1rPhba",
        "outputId": "47132794-a565-41bb-ed88-1694aa62062b"
      },
      "execution_count": 103,
      "outputs": [
        {
          "output_type": "stream",
          "name": "stdout",
          "text": [
            "🔍 Test images found: ['/content/test_folder/ten of hearts/4.jpg', '/content/test_folder/ten of hearts/3.jpg', '/content/test_folder/ten of hearts/1.jpg', '/content/test_folder/ten of hearts/5.jpg', '/content/test_folder/ten of hearts/2.jpg']\n",
            "✅ Found 265 test images.\n",
            "📷 Processing: /content/test_folder/king of clubs/3.jpg\n",
            "🖼 Image tensor shape: torch.Size([1, 3, 128, 128])\n",
            "📊 Predicted probabilities: [2.41566545e-09 1.62086854e-11 1.84165096e-12 3.41463706e-12\n",
            " 1.40115057e-08 1.61233895e-12 1.08215886e-13 1.38677572e-14\n",
            " 4.32439397e-11 6.11975748e-14 1.15672206e-15 3.52832972e-15\n",
            " 1.05432918e-07 3.05319485e-11 2.47418362e-12 7.43885639e-13\n",
            " 7.01264380e-10 1.68974494e-13 1.27059491e-11 2.69459802e-12\n",
            " 4.72933415e-10 9.99994636e-01 1.86955340e-09 1.23135862e-07\n",
            " 1.04538378e-08 2.12524402e-13 1.89858064e-14 1.52731452e-13\n",
            " 2.09912959e-14 2.95094452e-07 3.63888052e-11 5.31823335e-11\n",
            " 1.56536969e-12 4.23923619e-13 9.73991734e-14 5.28803509e-13\n",
            " 2.23893021e-15 1.71130665e-10 3.90715927e-15 4.76960268e-13\n",
            " 8.73632693e-16 2.84828805e-09 1.17995095e-14 2.25704262e-14\n",
            " 3.16574532e-14 4.82915721e-06 1.99330591e-12 1.18063209e-12\n",
            " 1.43143971e-12 2.79875290e-10 2.86476072e-15 7.44967976e-12\n",
            " 4.22932461e-14]\n",
            "📷 Processing: /content/test_folder/ace of hearts/2.jpg\n",
            "🖼 Image tensor shape: torch.Size([1, 3, 128, 128])\n",
            "📊 Predicted probabilities: [2.96243723e-03 7.13179121e-04 9.43984330e-01 4.88084368e-02\n",
            " 1.84702083e-06 1.73920068e-06 7.95111828e-06 2.17934826e-06\n",
            " 5.27800296e-07 5.80768699e-07 2.24619871e-04 9.57066004e-06\n",
            " 4.05446735e-06 4.91241553e-05 1.91557663e-03 1.41486409e-04\n",
            " 3.17729928e-06 5.86145434e-05 4.02882608e-04 1.84991518e-06\n",
            " 1.92263833e-05 3.75946001e-07 3.81982536e-05 6.97254145e-05\n",
            " 1.02933052e-06 7.18600504e-08 9.86181249e-07 8.98152564e-07\n",
            " 3.08087010e-07 3.67822224e-07 9.89283672e-06 1.40693946e-05\n",
            " 1.86133502e-06 1.32173693e-06 2.67568282e-07 2.99536296e-05\n",
            " 9.29936846e-07 1.09621624e-06 3.76384946e-06 1.28720450e-04\n",
            " 1.19692879e-06 1.18050416e-07 5.43965143e-06 6.22146081e-06\n",
            " 1.21777589e-06 1.04183550e-06 5.65876253e-05 1.61718970e-04\n",
            " 7.08459920e-05 2.51588119e-07 5.20893195e-07 7.28386731e-05\n",
            " 4.86198405e-06]\n",
            "📷 Processing: /content/test_folder/jack of spades/1.jpg\n",
            "🖼 Image tensor shape: torch.Size([1, 3, 128, 128])\n",
            "📊 Predicted probabilities: [4.05853115e-07 3.59081383e-07 6.46809255e-08 3.09701022e-07\n",
            " 1.68557843e-08 3.60571363e-07 1.65910432e-08 3.81337912e-07\n",
            " 2.23084058e-08 1.69829264e-07 1.66915335e-08 4.08708701e-07\n",
            " 2.30512711e-07 2.32368643e-06 2.40700473e-07 4.03648664e-05\n",
            " 3.38428596e-04 1.94194692e-03 1.31498047e-04 9.95063722e-01\n",
            " 1.34027825e-04 1.20144854e-04 5.35886851e-04 2.08671668e-06\n",
            " 6.86304469e-04 2.10740239e-07 5.01854038e-06 1.06986035e-05\n",
            " 5.79740254e-06 2.50866942e-05 4.86016681e-04 1.32752721e-05\n",
            " 2.17099703e-04 4.41223619e-06 7.92036662e-05 8.63583136e-06\n",
            " 1.00340942e-04 9.07808158e-08 1.40075812e-07 2.45651108e-07\n",
            " 1.24034756e-07 2.80040354e-07 1.15589444e-06 5.88533489e-08\n",
            " 7.08623111e-06 7.91960701e-06 2.08370966e-06 1.23114171e-06\n",
            " 7.73662521e-07 1.91609161e-06 4.31040871e-06 2.00787849e-06\n",
            " 1.52451612e-05]\n",
            "📷 Processing: /content/test_folder/nine of clubs/4.jpg\n",
            "🖼 Image tensor shape: torch.Size([1, 3, 128, 128])\n",
            "📊 Predicted probabilities: [1.54366364e-06 1.07366702e-07 6.85494896e-08 1.01844835e-08\n",
            " 8.01694987e-04 3.36139891e-07 8.22977142e-07 2.05020157e-07\n",
            " 9.63659259e-04 2.68648019e-08 2.50381106e-07 7.90375282e-07\n",
            " 1.49091136e-06 4.73201681e-07 2.03010995e-08 3.87352230e-08\n",
            " 1.31834850e-06 8.71640182e-09 1.01433507e-07 5.89954823e-08\n",
            " 4.60298043e-06 1.44484986e-07 2.37914097e-08 5.45913359e-09\n",
            " 6.59197141e-09 9.94336426e-01 5.41103873e-05 7.37846014e-04\n",
            " 1.20235440e-04 1.24046317e-04 1.35378739e-08 1.30005253e-06\n",
            " 1.12848284e-07 1.53829387e-04 1.53004109e-07 5.54488054e-07\n",
            " 6.09203497e-08 2.85270344e-05 3.80288423e-09 2.97189313e-08\n",
            " 1.57804834e-07 1.99011830e-03 3.20783471e-08 2.12247278e-06\n",
            " 9.29795249e-07 4.93957719e-04 9.98875933e-08 9.71949703e-06\n",
            " 2.04482006e-07 1.65208214e-04 2.10533084e-08 1.92226025e-06\n",
            " 5.71483554e-07]\n",
            "📷 Processing: /content/test_folder/three of clubs/5.jpg\n",
            "🖼 Image tensor shape: torch.Size([1, 3, 128, 128])\n",
            "📊 Predicted probabilities: [4.53316886e-07 4.71668855e-08 1.47789212e-08 2.16702745e-09\n",
            " 1.44588148e-05 1.36151698e-07 4.81449149e-07 7.25566451e-08\n",
            " 3.79411213e-05 2.50934207e-08 2.33566288e-06 1.32425669e-07\n",
            " 3.76400067e-07 3.27439921e-07 4.92274044e-09 4.90188881e-07\n",
            " 8.30297950e-07 2.56213212e-07 5.41117657e-08 4.61048311e-09\n",
            " 1.23434784e-05 9.81056729e-08 1.64030176e-08 8.58581206e-09\n",
            " 9.39294331e-09 1.01621858e-07 1.49900268e-06 1.12276643e-06\n",
            " 2.06217265e-08 3.64166794e-08 1.11650822e-08 1.01310222e-08\n",
            " 3.42723155e-10 2.67333036e-07 2.50057948e-08 9.19059957e-08\n",
            " 6.87559076e-09 4.87800982e-08 2.74035150e-09 2.43942715e-08\n",
            " 1.15749896e-10 9.40911704e-09 1.08017719e-08 7.37342187e-09\n",
            " 8.81570761e-10 9.63658750e-01 1.09010013e-02 1.67649724e-02\n",
            " 8.58812407e-03 1.18466769e-05 7.65076265e-07 2.40517039e-07\n",
            " 7.31727283e-08]\n",
            "📷 Processing: /content/test_folder/seven of spades/4.jpg\n",
            "🖼 Image tensor shape: torch.Size([1, 3, 128, 128])\n",
            "📊 Predicted probabilities: [5.6134009e-09 1.4318309e-08 2.3986980e-08 2.1358535e-07 8.2850271e-10\n",
            " 1.0729109e-09 3.1807343e-09 2.9404646e-05 3.9176363e-08 8.7460357e-08\n",
            " 1.8272782e-08 1.3865750e-05 6.3753106e-08 1.8370910e-08 2.3197552e-08\n",
            " 1.4655370e-06 2.9834162e-09 3.0665657e-08 1.9465750e-08 2.3401376e-06\n",
            " 2.4216220e-09 2.3758753e-09 2.5222173e-09 3.0362359e-09 3.4659120e-08\n",
            " 1.8848068e-09 4.7854423e-09 4.4567233e-08 3.7850859e-06 1.5170346e-09\n",
            " 2.5524938e-09 2.9535161e-09 1.7978024e-09 1.6570679e-07 1.3112868e-06\n",
            " 4.0063896e-06 9.9859220e-01 8.8083922e-09 4.8661635e-09 2.7931254e-08\n",
            " 1.3483654e-03 5.2455118e-10 2.9383379e-10 4.1989057e-09 1.7939635e-06\n",
            " 4.2314667e-09 2.5638028e-10 1.9651969e-09 5.3703445e-07 2.3101021e-09\n",
            " 2.2816637e-10 5.0288076e-09 4.1502979e-08]\n",
            "📷 Processing: /content/test_folder/nine of hearts/4.jpg\n",
            "🖼 Image tensor shape: torch.Size([1, 3, 128, 128])\n",
            "📊 Predicted probabilities: [6.67238346e-05 1.56775914e-05 4.45686921e-04 2.53222261e-05\n",
            " 2.11739025e-05 1.15872324e-02 1.81549937e-01 2.35555766e-04\n",
            " 6.33376339e-06 1.69889914e-04 2.59258807e-01 2.01741670e-04\n",
            " 1.41076589e-05 7.69660164e-06 9.65746352e-04 5.15488791e-05\n",
            " 2.29214511e-05 2.82124936e-04 2.16097031e-02 8.95639096e-06\n",
            " 4.68120736e-04 9.58971759e-06 9.54923962e-05 2.07386469e-03\n",
            " 6.89627541e-06 1.93979959e-05 5.82881039e-03 1.05525248e-01\n",
            " 3.24231005e-05 1.36301533e-05 1.98616341e-04 6.15103729e-03\n",
            " 1.35281844e-05 1.61402713e-05 5.36087391e-05 5.21890866e-03\n",
            " 1.04719911e-05 5.17502167e-06 1.14815171e-04 4.83467383e-03\n",
            " 1.93733504e-05 6.37064977e-06 1.76532858e-03 3.55969705e-02\n",
            " 1.32624145e-05 4.29386382e-05 1.88074503e-02 3.35860074e-01\n",
            " 4.21840959e-05 1.75826335e-05 1.08475533e-05 5.79151092e-04\n",
            " 1.10431881e-06]\n",
            "📷 Processing: /content/test_folder/eight of hearts/4.jpg\n",
            "🖼 Image tensor shape: torch.Size([1, 3, 128, 128])\n",
            "📊 Predicted probabilities: [1.2898444e-06 4.4146674e-07 4.8718078e-07 3.2690340e-07 6.8127626e-04\n",
            " 4.0091436e-02 9.5223612e-01 6.7911483e-03 1.4780904e-06 9.6255053e-07\n",
            " 2.2213899e-06 9.3126779e-08 1.1583085e-07 3.6278600e-08 3.4466723e-07\n",
            " 9.2115407e-08 4.4251167e-09 1.2632749e-08 1.2336800e-07 4.1762982e-10\n",
            " 1.9427207e-06 2.6795675e-07 5.3941308e-06 1.0474856e-04 1.6101795e-07\n",
            " 8.3851077e-08 5.0293858e-07 2.9234448e-06 4.3135593e-08 3.1246085e-08\n",
            " 2.1191898e-08 1.6024649e-07 1.8637270e-07 5.7422602e-07 2.2195366e-08\n",
            " 1.2933845e-06 5.4151208e-09 2.6745278e-07 7.9681777e-06 7.3351284e-06\n",
            " 4.1826979e-07 8.0745451e-08 4.6766747e-08 4.2316231e-05 3.4659450e-07\n",
            " 1.0000831e-06 1.3304147e-05 2.3968735e-07 2.5287483e-07 4.4481446e-08\n",
            " 1.1158020e-08 1.1179706e-08 2.3583263e-08]\n",
            "📷 Processing: /content/test_folder/three of diamonds/5.jpg\n",
            "🖼 Image tensor shape: torch.Size([1, 3, 128, 128])\n",
            "📊 Predicted probabilities: [5.0883442e-05 6.0049017e-05 5.7212433e-06 1.0764024e-06 5.5564232e-07\n",
            " 1.0062007e-03 1.2767397e-05 4.8237763e-07 2.2937083e-07 1.0439767e-04\n",
            " 1.1999643e-04 5.8196895e-07 6.1782356e-07 3.0739877e-05 5.1400989e-06\n",
            " 3.3735432e-05 2.4891237e-06 9.2082843e-03 1.4368027e-05 3.8628486e-06\n",
            " 4.5188655e-05 8.8091338e-07 1.5719870e-05 2.2369845e-06 9.1112206e-08\n",
            " 3.3356585e-07 1.1177944e-02 6.3778629e-05 1.8637120e-07 2.8161012e-06\n",
            " 2.2168919e-04 5.0788726e-06 2.3673356e-07 5.9671979e-06 1.6590804e-04\n",
            " 1.3252716e-05 1.7243136e-06 9.1231368e-07 9.0657431e-06 6.7361630e-06\n",
            " 6.4606624e-08 1.1615725e-07 6.5153944e-03 1.2610399e-05 2.7258000e-07\n",
            " 5.0314709e-05 9.6370667e-01 5.9445752e-03 2.8352626e-05 2.1040012e-06\n",
            " 1.3346936e-03 2.3483517e-06 7.0445316e-07]\n",
            "📷 Processing: /content/test_folder/queen of diamonds/4.jpg\n",
            "🖼 Image tensor shape: torch.Size([1, 3, 128, 128])\n",
            "📊 Predicted probabilities: [4.40612621e-06 2.51527654e-05 2.26958969e-06 1.21518013e-07\n",
            " 2.13881503e-06 1.76905087e-04 3.35847744e-06 8.27512395e-07\n",
            " 1.72286252e-06 1.15236035e-04 7.28989517e-06 9.46224873e-07\n",
            " 2.39930387e-07 9.04934132e-06 5.08133007e-06 9.61952878e-07\n",
            " 2.26820589e-07 4.01230995e-04 3.48410367e-06 1.26131852e-06\n",
            " 8.17923876e-07 5.07931702e-07 1.14232011e-04 1.49998709e-06\n",
            " 1.26630880e-07 3.50651408e-06 1.34622667e-03 1.43564478e-06\n",
            " 3.79495276e-07 1.25184143e-03 9.84598875e-01 5.77834027e-04\n",
            " 1.01235324e-04 2.77526851e-07 1.27109661e-05 3.49450090e-07\n",
            " 5.33340128e-08 1.84230175e-05 6.49287319e-03 1.03386301e-04\n",
            " 5.89223737e-06 3.66620134e-06 4.31450736e-03 5.36246716e-06\n",
            " 2.89573791e-06 4.99118357e-07 1.77796501e-05 6.49919741e-07\n",
            " 1.72913644e-07 8.65623861e-06 2.49913370e-04 8.74252407e-07\n",
            " 6.56400346e-07]\n"
          ]
        }
      ]
    },
    {
      "cell_type": "code",
      "source": [
        "import matplotlib.pyplot as plt\n",
        "\n",
        "for example in test_examples:\n",
        "    print(\"📷 Processing:\", example)  # Debugging: Print image being processed\n",
        "\n",
        "    # Preprocess image\n",
        "    original_image, image_tensor = preprocess_image(example, transform)\n",
        "\n",
        "    # Display the image\n",
        "    plt.imshow(original_image)\n",
        "    plt.axis(\"off\")\n",
        "\n",
        "    # Get predictions\n",
        "    probabilities = predict(model, image_tensor, device)\n",
        "\n",
        "    # Debugging: Check if probabilities are valid\n",
        "    print(\"📊 Probabilities shape:\", probabilities.shape)\n",
        "\n",
        "    # Ensure probabilities have values\n",
        "    if probabilities is None or len(probabilities) == 0:\n",
        "        print(\"❌ No valid probabilities found! Skipping image.\")\n",
        "        continue\n",
        "\n",
        "    # Ensure dataset classes exist\n",
        "    if not hasattr(dataset, 'classes') or not dataset.classes:\n",
        "        print(\"❌ No class labels found! Check dataset.\")\n",
        "        continue\n",
        "\n",
        "    class_names = dataset.classes\n",
        "\n",
        "    # Check if probabilities and class names match\n",
        "    if probabilities.shape[0] != len(class_names):\n",
        "        print(\"❌ Mismatch between probabilities and class names! Skipping image.\")\n",
        "        continue\n",
        "\n",
        "    # Get the top prediction\n",
        "    predicted_class = class_names[probabilities.argmax()]\n",
        "    confidence = probabilities.max() * 100  # Convert to percentage\n",
        "\n",
        "    # Set title with prediction\n",
        "    plt.title(f\"Prediction: {predicted_class} ({confidence:.2f}%)\", fontsize=14)\n",
        "\n",
        "    # Show the image\n",
        "    plt.show()\n"
      ],
      "metadata": {
        "colab": {
          "base_uri": "https://localhost:8080/",
          "height": 927
        },
        "id": "3DB1eVBqSo2B",
        "outputId": "e0c20fae-a219-4cc4-c822-dca38cea5c1b"
      },
      "execution_count": 105,
      "outputs": [
        {
          "output_type": "stream",
          "name": "stdout",
          "text": [
            "📷 Processing: /content/test_folder/king of clubs/3.jpg\n",
            "📊 Probabilities shape: (53,)\n",
            "❌ Mismatch between probabilities and class names! Skipping image.\n",
            "📷 Processing: /content/test_folder/ace of hearts/2.jpg\n",
            "📊 Probabilities shape: (53,)\n",
            "❌ Mismatch between probabilities and class names! Skipping image.\n",
            "📷 Processing: /content/test_folder/jack of spades/1.jpg\n",
            "📊 Probabilities shape: (53,)\n",
            "❌ Mismatch between probabilities and class names! Skipping image.\n",
            "📷 Processing: /content/test_folder/nine of clubs/4.jpg\n",
            "📊 Probabilities shape: (53,)\n",
            "❌ Mismatch between probabilities and class names! Skipping image.\n",
            "📷 Processing: /content/test_folder/three of clubs/5.jpg\n",
            "📊 Probabilities shape: (53,)\n",
            "❌ Mismatch between probabilities and class names! Skipping image.\n",
            "📷 Processing: /content/test_folder/seven of spades/4.jpg\n",
            "📊 Probabilities shape: (53,)\n",
            "❌ Mismatch between probabilities and class names! Skipping image.\n",
            "📷 Processing: /content/test_folder/nine of hearts/4.jpg\n",
            "📊 Probabilities shape: (53,)\n",
            "❌ Mismatch between probabilities and class names! Skipping image.\n",
            "📷 Processing: /content/test_folder/eight of hearts/4.jpg\n",
            "📊 Probabilities shape: (53,)\n",
            "❌ Mismatch between probabilities and class names! Skipping image.\n",
            "📷 Processing: /content/test_folder/three of diamonds/5.jpg\n",
            "📊 Probabilities shape: (53,)\n",
            "❌ Mismatch between probabilities and class names! Skipping image.\n",
            "📷 Processing: /content/test_folder/queen of diamonds/4.jpg\n",
            "📊 Probabilities shape: (53,)\n",
            "❌ Mismatch between probabilities and class names! Skipping image.\n"
          ]
        },
        {
          "output_type": "display_data",
          "data": {
            "text/plain": [
              "<Figure size 640x480 with 1 Axes>"
            ],
            "image/png": "[encoded data removed]"
          },
          "metadata": {}
        }
      ]
    },
    {
      "cell_type": "code",
      "source": [
        "import torch\n",
        "from torch.utils.data import DataLoader\n",
        "\n",
        "# Ensure the model is in evaluation mode\n",
        "model.eval()\n",
        "\n",
        "correct = 0\n",
        "total = 0\n",
        "\n",
        "# Use DataLoader to iterate over the test set\n",
        "test_loader = DataLoader(test_dataset, batch_size=32, shuffle=False)\n",
        "\n",
        "with torch.no_grad():  # Disable gradient computation for evaluation\n",
        "    for images, labels in test_loader:\n",
        "        images, labels = images.to(device), labels.to(device)  # Move to GPU if available\n",
        "\n",
        "        # Get predictions\n",
        "        outputs = model(images)\n",
        "        _, predicted = torch.max(outputs, 1)  # Get class with highest probability\n",
        "\n",
        "        # Update counts\n",
        "        total += labels.size(0)\n",
        "        correct += (predicted == labels).sum().item()\n",
        "\n",
        "# Compute accuracy\n",
        "accuracy = (correct / total) * 100\n",
        "print(f\"✅ Model Accuracy: {accuracy:.2f}%\")\n"
      ],
      "metadata": {
        "colab": {
          "base_uri": "https://localhost:8080/"
        },
        "id": "-KJ2GGTlTbVQ",
        "outputId": "a8404744-7b91-4cba-cfcd-29a5c473efd1"
      },
      "execution_count": 106,
      "outputs": [
        {
          "output_type": "stream",
          "name": "stdout",
          "text": [
            "✅ Model Accuracy: 93.96%\n"
          ]
        }
      ]
    }
  ]
}