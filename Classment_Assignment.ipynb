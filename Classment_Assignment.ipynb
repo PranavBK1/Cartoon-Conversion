{
  "nbformat": 4,
  "nbformat_minor": 0,
  "metadata": {
    "colab": {
      "provenance": [],
      "authorship_tag": "ABX9TyOM+QaGmDNeGdTT5InLVvar",
      "include_colab_link": true
    },
    "kernelspec": {
      "name": "python3",
      "display_name": "Python 3"
    },
    "language_info": {
      "name": "python"
    }
  },
  "cells": [
    {
      "cell_type": "markdown",
      "metadata": {
        "id": "view-in-github",
        "colab_type": "text"
      },
      "source": [
        "<a href=\"https://colab.research.google.com/github/PranavBK1/Cartoon-Conversion/blob/main/Classment_Assignment.ipynb\" target=\"_parent\"><img src=\"https://colab.research.google.com/assets/colab-badge.svg\" alt=\"Open In Colab\"/></a>"
      ]
    },
    {
      "cell_type": "code",
      "source": [
        "# Import necessary libraries\n",
        "import pandas as pd\n",
        "from sklearn.metrics.pairwise import cosine_similarity\n",
        "from sklearn.feature_extraction.text import CountVectorizer\n",
        "\n",
        "# Step 1: Create a dataset of job roles and their associated skills\n",
        "data = {\n",
        "    'Job Role': [\n",
        "        'Data Scientist',\n",
        "        'Data Analyst',\n",
        "        'Machine Learning Engineer',\n",
        "        'Data Engineer',\n",
        "        'AI Researcher',\n",
        "        'Business Analyst',\n",
        "        'NLP Engineer'\n",
        "    ],\n",
        "    'Skills': [\n",
        "        'Python, R, SQL, Machine Learning',\n",
        "        'SQL, Excel, Data Visualization',\n",
        "        'Python, Machine Learning, Deep Learning',\n",
        "        'SQL, Data Warehousing, ETL',\n",
        "        'Python, R, Machine Learning, Statistics',\n",
        "        'SQL, Excel, Business Intelligence',\n",
        "        'Python, NLP, Machine Learning'\n",
        "    ]\n",
        "}\n",
        "\n",
        "# Create a DataFrame\n",
        "df = pd.DataFrame(data)\n",
        "\n",
        "# Step 2: Calculate cosine similarity\n",
        "count_vectorizer = CountVectorizer()\n",
        "count_matrix = count_vectorizer.fit_transform(df['Skills'])\n",
        "cosine_sim = cosine_similarity(count_matrix)\n",
        "\n",
        "# Step 3: Create a function to get recommendations\n",
        "def get_recommendations(job_role):\n",
        "    # Check if the job role exists in the DataFrame\n",
        "    if job_role not in df['Job Role'].values:\n",
        "        return f\"Job role '{job_role}' not found in the dataset.\"\n",
        "\n",
        "    # Get the index of the job role\n",
        "    idx = df[df['Job Role'] == job_role].index[0]\n",
        "\n",
        "    # Get the pairwise similarity scores of all job roles with that job role\n",
        "    sim_scores = list(enumerate(cosine_sim[idx]))\n",
        "\n",
        "    # Sort the job roles based on similarity scores\n",
        "    sim_scores = sorted(sim_scores, key=lambda x: x[1], reverse=True)\n",
        "\n",
        "    # Get the top 3 similar job roles (excluding the input job role itself)\n",
        "    top_roles = [df['Job Role'][i[0]] for i in sim_scores[1:4]]\n",
        "\n",
        "    return top_roles\n",
        "\n",
        "# Step 4: Test the function\n",
        "input_role = input(\"Enter the job role: \")\n",
        "recommended_roles = get_recommendations(input_role)\n",
        "\n",
        "# Output the recommendations\n",
        "print(f\"Top 3 recommended roles for '{input_role}': {recommended_roles}\")"
      ],
      "metadata": {
        "colab": {
          "base_uri": "https://localhost:8080/"
        },
        "id": "0gSD1_xR6a-b",
        "outputId": "bdfb99c2-18df-4380-8512-aace4b3c46d9"
      },
      "execution_count": 13,
      "outputs": [
        {
          "output_type": "stream",
          "name": "stdout",
          "text": [
            "Enter the job role: Machine Learning Engineer\n",
            "Top 3 recommended roles for 'Machine Learning Engineer': ['Data Scientist', 'AI Researcher', 'NLP Engineer']\n"
          ]
        }
      ]
    },
    {
      "cell_type": "code",
      "source": [],
      "metadata": {
        "id": "EWA8V8is_VqK"
      },
      "execution_count": null,
      "outputs": []
    },
    {
      "cell_type": "markdown",
      "source": [
        "**Approach to solve the problem**\n",
        "Approach to Building the Job Recommendation Engine\n",
        "Define the Objective:\n",
        "\n",
        "The goal is to create a recommendation engine that suggests similar job roles based on the skills required for a given job role.\n",
        "Data Collection:\n",
        "\n",
        "Gather a dataset containing job roles and their associated skills. This dataset serves as the foundation for the recommendation engine.\n",
        "Data Preparation:\n",
        "\n",
        "Create a structured dataset (in this case, a pandas DataFrame) where each job role is mapped to its corresponding skills. Ensure that the lengths of the job roles and skills lists match.\n",
        "Feature Extraction:\n",
        "\n",
        "Use CountVectorizer from the sklearn library to convert the skills into a matrix of token counts. This step transforms the textual data into a numerical format suitable for similarity calculations.\n",
        "Calculate Cosine Similarity:\n",
        "\n",
        "Compute the cosine similarity between the skill vectors using the cosine_similarity function. This results in a similarity matrix that quantifies how similar each job role is to every other job role based on their skills.\n",
        "Recommendation Function:\n",
        "\n",
        "Implement a function (get_recommendations) that:\n",
        "Takes a job role as input.\n",
        "Checks if the job role exists in the dataset.\n",
        "Retrieves the index of the job role and its corresponding similarity scores.\n",
        "Sorts the scores to find the top 3 most similar job roles, excluding the input job role itself.\n",
        "User Interaction:\n",
        "\n",
        "Prompt the user to input a job role for which they want recommendations. This allows for dynamic interaction with the recommendation engine.\n",
        "Output Recommendations:\n",
        "\n",
        "Display the top 3 recommended job roles based on the input, providing users with relevant suggestions."
      ],
      "metadata": {
        "id": "jN_gun-XArWI"
      }
    },
    {
      "cell_type": "markdown",
      "source": [
        "**Reason for choosing cosine Similarity**\n",
        "Cosine similarity is chosen for measuring the similarity between job roles based on skills for several reasons:\n",
        "\n",
        "Magnitude Independence: It focuses on the direction of the skill vectors rather than their magnitude, making it effective for comparing job roles with varying numbers of skills.\n",
        "\n",
        "High-Dimensional Data: It works well in sparse, high-dimensional spaces, which is common when representing skills.\n",
        "\n",
        "Interpretability: The similarity score ranges from -1 to 1, making it easy to understand the relationship between job roles.\n",
        "\n",
        "Common Usage: It is widely used in text analysis and recommendation systems, making it a well-established choice.\n",
        "\n",
        "Efficiency: Calculating cosine similarity is computationally efficient, allowing for quick comparisons even with larger datasets.\n",
        "\n",
        "Overall, cosine similarity provides a clear, robust, and efficient way to assess the similarity of job roles based on their skill sets."
      ],
      "metadata": {
        "id": "BMfrM-HW_2GI"
      }
    }
  ]
}